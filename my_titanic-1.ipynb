{
 "cells": [
  {
   "cell_type": "code",
   "execution_count": null,
   "metadata": {},
   "outputs": [],
   "source": [
    "#加载使用的库\n",
    "import pandas as pd\n",
    "import numpy as np\n",
    "import matplotlib.pyplot as plt\n",
    "import seaborn as sns\n",
    "%matplotlib inline\n",
    "\n",
    "from sklearn.model_selection import cross_val_score\n",
    "from sklearn.model_selection import learning_curve\n",
    "from sklearn.linear_model import LogisticRegression\n",
    "from sklearn.tree import DecisionTreeClassifier\n",
    "from sklearn.ensemble import RandomForestClassifier\n",
    "from sklearn.svm import SVC\n",
    "from sklearn.neighbors import KNeighborsClassifier"
   ]
  },
  {
   "cell_type": "markdown",
   "metadata": {},
   "source": [
    "### ●问题描述\n",
    "<p> 1912年4月15日，泰坦尼克号在她的处女航中撞上冰山后沉没，结束了她光辉而短暂的旅途。2224名乘客以及船员中有1502人丧生，存活率仅32%。\n",
    "<p> 现在我们得到了一份记录了乘客的各种信息以及该乘客是否生还的训练数据和一份含有乘客信息但生还未知的测试数据，我们要根据训练数据建立一个模型来预测测试数据中乘客的生还情况。"
   ]
  },
  {
   "cell_type": "markdown",
   "metadata": {},
   "source": [
    "### ●获取数据并初步观察"
   ]
  },
  {
   "cell_type": "code",
   "execution_count": null,
   "metadata": {},
   "outputs": [],
   "source": [
    "#提取数据\n",
    "train_df = pd.read_csv(\"train.csv\")\n",
    "test_df = pd.read_csv(\"test.csv\")\n",
    "total_data = [train_df, test_df]"
   ]
  },
  {
   "cell_type": "code",
   "execution_count": null,
   "metadata": {},
   "outputs": [],
   "source": [
    "#简单观察几行数据\n",
    "print(train_df.head())\n",
    "print(\"*\"*90)\n",
    "print(train_df.tail())"
   ]
  },
  {
   "cell_type": "code",
   "execution_count": null,
   "metadata": {},
   "outputs": [],
   "source": [
    "#查看数据的基本信息\n",
    "print(train_df.info())\n",
    "print(\"*\"*45)\n",
    "print(test_df.info())"
   ]
  },
  {
   "cell_type": "code",
   "execution_count": null,
   "metadata": {},
   "outputs": [],
   "source": [
    "#查看数据的统计情况\n",
    "for data in total_data:\n",
    "    print(data.describe())\n",
    "    print(\"*\"*60)\n",
    "    print(data.describe(include=[\"O\"]))\n",
    "    print(\"*\"*60)"
   ]
  },
  {
   "cell_type": "code",
   "execution_count": null,
   "metadata": {},
   "outputs": [],
   "source": [
    "#观察缺失值的情况\n",
    "for data in total_data:\n",
    "    print(data.isnull().sum())\n",
    "    print(\"*\"*30)\n",
    "    print(data.isnull().sum()/len(data))\n",
    "    print(\"*\"*30)"
   ]
  },
  {
   "cell_type": "markdown",
   "metadata": {
    "collapsed": true
   },
   "source": [
    "#### 初步观察后得到一些信息\n",
    "<p> 训练集中一共有891位乘客信息（577名男性乘客)，测试集中有418位乘客信息(266名男性乘客）；\n",
    "<p> 训练集（train_df）中一共12列数据，其中Survived列为我们需要预测的标签（label），其他11列为特征（feature）\n",
    "<p> 数量型数据  \n",
    "   离散型：SibSp Parch  \n",
    "   连续型：Age Fare\n",
    "<p> 分类型数据  \n",
    "   Name Sex Ticket Cabin Embarked Survived    \n",
    "   定序型：Pclass\n",
    "<p> PassengerId是一个序列，对数据没有任何作用    \n",
    "<p> Survived中，1代表生还，0代表遇难；从训练集的mean中可以看到乘客生还率为38%\n",
    "<p> Pclass分为1，2，3；中位数是3，可知1代表头等舱，2次之，3为普通席\n",
    "<p> Age 乘客平均年龄29岁，中位数28岁，最小4个月大，最大80岁\n",
    "<p> SibSp和Parch跟家庭成员有关，从数据可以看出75%的乘客都是单独出行\n",
    "<p> Fare中可以看出，有少部分土豪乘客，票价高达512磅。\n",
    "<p> Name全是独立数据\n",
    "<p> Ticket有超过75%的独立值\n",
    "<p> Embarked有S、C、Q三种，S最多，占72%   \n",
    "<p> 训练集中Age、Cabin和Embarked有缺失值；测试集中Age、Cabin和Fare有缺失值    "
   ]
  },
  {
   "cell_type": "markdown",
   "metadata": {},
   "source": [
    "### ●进一步分析数据\n",
    "<p> 为了预测乘客是否生还，我们需要进一步分析出哪些特征或哪些特征组合与Survied有关联"
   ]
  },
  {
   "cell_type": "code",
   "execution_count": null,
   "metadata": {},
   "outputs": [],
   "source": [
    "#首先看一看几个没有确实值，分类型，离散型，定序型特征的存活率\n",
    "for feature in ['Pclass', 'Sex', 'SibSp', 'Parch']:\n",
    "    print(train_df[[feature,\"Survived\"]].groupby(train_df[feature]).mean())\n",
    "    print(\"*\"*30)"
   ]
  },
  {
   "cell_type": "code",
   "execution_count": null,
   "metadata": {},
   "outputs": [],
   "source": [
    "#画出条形图\n",
    "fig, axes = plt.subplots(2,2, figsize=(10,10))\n",
    "for i,feature in {(0,0): 'Pclass', (0,1): 'Sex', (1,0): 'SibSp', (1,1): 'Parch'}.items():\n",
    "    survived = train_df[feature][train_df[\"Survived\"] == 1].value_counts()\n",
    "    not_survived = train_df[feature][train_df[\"Survived\"] == 0].value_counts()\n",
    "    df = pd.DataFrame({\"survived\": survived, \"not survived\":not_survived})\n",
    "    df.plot(kind=\"bar\", stacked=True, ax=axes[i], grid=True, rot=1, title=feature)"
   ]
  },
  {
   "cell_type": "markdown",
   "metadata": {},
   "source": [
    "<p> Pclass的头等舱有6成能获救，次等级舱4成，而一般乘客不到3成，土豪的获救率超过一般平民。   \n",
    "   女性则超过7成能获救，男性不到2成，绅士们将Lady First的原则贯彻的很彻底，那怕在这种生死攸关的时刻。   \n",
    "   单身人事占比远远超过结伴出行的人。"
   ]
  },
  {
   "cell_type": "code",
   "execution_count": null,
   "metadata": {},
   "outputs": [],
   "source": [
    "#看一看Pclass中Sex的获救情况\n",
    "train_df.groupby([\"Pclass\", \"Sex\"])[\"Survived\"].value_counts().plot(kind=\"barh\", title=\"Pclass & Sex\")"
   ]
  },
  {
   "cell_type": "code",
   "execution_count": null,
   "metadata": {},
   "outputs": [],
   "source": [
    "#看一看Embarked中Sex的获救情况\n",
    "train_df.groupby([\"Embarked\", \"Sex\"])[\"Survived\"].value_counts().plot(kind=\"barh\", title=\"Embarked & Sex\")"
   ]
  },
  {
   "cell_type": "code",
   "execution_count": null,
   "metadata": {},
   "outputs": [],
   "source": [
    "#查看Pclass中Sex的存活率\n",
    "train_df.groupby([\"Pclass\", \"Sex\"])[\"Survived\"].mean()"
   ]
  },
  {
   "cell_type": "code",
   "execution_count": null,
   "metadata": {},
   "outputs": [],
   "source": [
    "#查看Embarked中Sex的存活率\n",
    "train_df.groupby([\"Embarked\", \"Sex\"])[\"Survived\"].mean()"
   ]
  },
  {
   "cell_type": "markdown",
   "metadata": {},
   "source": [
    "<p> 从图中与数字比例可以看出头等舱中的女性以及C港口的女性获救率分别高达96%与87%\n",
    "<p> 头等舱中以及C港口中的男性获救率分别为36%与30%\n",
    "<p> 可以考虑将舱位与性别以及港口与性别分别作组合特称"
   ]
  },
  {
   "cell_type": "code",
   "execution_count": null,
   "metadata": {},
   "outputs": [],
   "source": [
    "#现在我们来看看Age特征\n",
    "fig= plt.figure(figsize=(13,5))\n",
    "plt.subplot(121)\n",
    "train_df[\"Age\"][train_df[\"Survived\"] == 1].plot(kind=\"hist\", bins=30, color=\"lightblue\")\n",
    "plt.xlabel(\"survived\")\n",
    "plt.xlim([0,85])\n",
    "\n",
    "plt.subplot(122)\n",
    "train_df[\"Age\"][train_df[\"Survived\"] == 0].plot(kind=\"hist\", bins=30, color=\"darkred\")\n",
    "plt.xlabel(\"not survived\")\n",
    "plt.xlim([0,85])"
   ]
  },
  {
   "cell_type": "markdown",
   "metadata": {},
   "source": [
    "<p> 可以看出10岁以下（可能8岁）具有较高的存活率，80岁以上都有存活。\n",
    "<p> 虽然生死攸关，但绅士们还是坚持女士与小孩优先原则。"
   ]
  },
  {
   "cell_type": "markdown",
   "metadata": {},
   "source": [
    "### ●对数据进行特征清理"
   ]
  },
  {
   "cell_type": "code",
   "execution_count": null,
   "metadata": {},
   "outputs": [],
   "source": [
    "train_df.columns"
   ]
  },
  {
   "cell_type": "code",
   "execution_count": null,
   "metadata": {},
   "outputs": [],
   "source": [
    "#先删除不需要的数据\n",
    "for data in total_data:\n",
    "    data.drop([\"Ticket\", \"Cabin\"], 1, inplace=True)"
   ]
  },
  {
   "cell_type": "code",
   "execution_count": null,
   "metadata": {},
   "outputs": [],
   "source": [
    "#将Sex特征转换为分类型\n",
    "for data in total_data:\n",
    "    data[\"Sex\"] = data[\"Sex\"].map({\"female\":1, \"male\":0}).astype(int)"
   ]
  },
  {
   "cell_type": "code",
   "execution_count": null,
   "metadata": {},
   "outputs": [],
   "source": [
    "#用众数将Embarked特征补充完整并转换为分类型\n",
    "train_df[\"Embarked\"].fillna(train_df[\"Embarked\"].mode()[0], inplace=True)\n",
    "\n",
    "for data in total_data:\n",
    "    data[\"Embarked\"] = data[\"Embarked\"].map({\"C\":2, \"Q\":1, \"S\":0}).astype(int)"
   ]
  },
  {
   "cell_type": "code",
   "execution_count": null,
   "metadata": {},
   "outputs": [],
   "source": [
    "#将Name特征中的Title提取出来\n",
    "for data in total_data:\n",
    "    data[\"Title\"] = data.Name.str.extract(\" ([A-Za-z]+)\\.\", expand=False)"
   ]
  },
  {
   "cell_type": "code",
   "execution_count": null,
   "metadata": {},
   "outputs": [],
   "source": [
    "#看一看各个title出现的频次\n",
    "pd.crosstab(test_df[\"Title\"],test_df[\"Sex\"])"
   ]
  },
  {
   "cell_type": "code",
   "execution_count": null,
   "metadata": {},
   "outputs": [],
   "source": [
    "#将意义相同的title归为一类，将出现次数较少以及不知道含义的title归类为Rare\n",
    "for data in total_data:\n",
    "    data[\"Title\"].replace([\"Capt\", \"Col\", \"Don\", \"Dr\", \"Jonkheer\", \"Major\", \"Rev\", \"Sir\"], \"Rare\", inplace=True)\n",
    "    data[\"Title\"].replace([\"Countess\", \"Mme\",\"Ms\", \"Dona\"], \"Mrs\", inplace=True)\n",
    "    data[\"Title\"].replace([\"Lady\", \"Mlle\"], \"Miss\", inplace=True)"
   ]
  },
  {
   "cell_type": "code",
   "execution_count": null,
   "metadata": {},
   "outputs": [],
   "source": [
    "#看一下分类后各个titile的存活率\n",
    "train_df[[\"Title\", \"Survived\"]].groupby(\"Title\")[\"Survived\"].mean()"
   ]
  },
  {
   "cell_type": "code",
   "execution_count": null,
   "metadata": {},
   "outputs": [],
   "source": [
    "#将title转换为分类型\n",
    "title_mapping = {\"Mrs\":1, \"Miss\":2, \"Master\":3, \"Mr\":4, \"Rare\":5}\n",
    "\n",
    "for data in total_data:\n",
    "    data[\"Title\"] = data[\"Title\"].map(title_mapping)\n",
    "    data[\"Title\"] = data[\"Title\"].fillna(0)"
   ]
  },
  {
   "cell_type": "code",
   "execution_count": null,
   "metadata": {},
   "outputs": [],
   "source": [
    "#将Name特征删除\n",
    "for data in total_data:\n",
    "    data.drop([\"Name\"], 1, inplace=True)"
   ]
  },
  {
   "cell_type": "code",
   "execution_count": null,
   "metadata": {},
   "outputs": [],
   "source": [
    "#将Age补充完整，用平均值代替\n",
    "for data in total_data:\n",
    "    mean_age = data[\"Age\"].mean()\n",
    "    std_age = data[\"Age\"].std()\n",
    "    nan_size = len(data[\"Age\"]) - data[\"Age\"].count()\n",
    "    fill_age_list = np.random(mean_age-std_age, mean_age+std_age, nan_size)\n",
    "    data.loc[[np.isnan(data[\"Age\"]), \"Age\"] = fill_age_list\n",
    "    data[\"Age\"] = data[\"Age\"].astype(int)"
   ]
  },
  {
   "cell_type": "code",
   "execution_count": null,
   "metadata": {},
   "outputs": [],
   "source": [
    "#将Age转换位分类型\n",
    "train_df[\"AgeBand\"] = pd.cut(train_df[\"Age\"], bins=10)\n",
    "train_df[[\"AgeBand\", \"Survived\"]].groupby(train_df[\"AgeBand\"]).mean()"
   ]
  },
  {
   "cell_type": "code",
   "execution_count": null,
   "metadata": {},
   "outputs": [],
   "source": [
    "#存活率接近的年龄段归为一类\n",
    "for data in total_data:\n",
    "    data.loc[data[\"Age\"] <= 8, \"Age\"] = 0\n",
    "    data.loc[(data[\"Age\"] > 8) & (data[\"Age\"] <=48), \"Age\"] = 1\n",
    "    data.loc[(data[\"Age\"]) > 48 & (data[\"Age\"] <=64), \"Age\"] = 2\n",
    "    data.loc[(data[\"Age\"] > 64) & (data[\"Age\"] <=72), \"Age\"] = 3\n",
    "    data.loc[data[\"Age\"] > 72, \"Age\"] = 4"
   ]
  },
  {
   "cell_type": "code",
   "execution_count": null,
   "metadata": {},
   "outputs": [],
   "source": [
    "#将AgeBand删除\n",
    "train_df.drop([\"AgeBand\"], 1, inplace=True)"
   ]
  },
  {
   "cell_type": "code",
   "execution_count": null,
   "metadata": {},
   "outputs": [],
   "source": [
    "#将Fare转换为分类型\n",
    "test_df[\"Fare\"].fillna(test_df[\"Fare\"].dropna().median(), inplace=True)\n",
    "\n",
    "train_df[\"FareBand\"] = pd.qcut(train_df[\"Fare\"], 5)\n",
    "train_df[[\"FareBand\", \"Survived\"]].groupby([\"FareBand\"]).mean()"
   ]
  },
  {
   "cell_type": "code",
   "execution_count": null,
   "metadata": {},
   "outputs": [],
   "source": [
    "for data in total_data:\n",
    "    data.loc[data[\"Fare\"] <= 7.854, \"Fare\"] = 0\n",
    "    data.loc[(data[\"Fare\"] > 7.854) & (data[\"Fare\"] <= 10.5), \"Fare\"] = 1\n",
    "    data.loc[(data[\"Fare\"] > 10.5) & (data[\"Fare\"] <= 21.679), \"Fare\"] = 2\n",
    "    data.loc[(data[\"Fare\"] > 21.679) & (data[\"Fare\"] <= 39.688), \"Fare\"] = 3\n",
    "    data.loc[data[\"Fare\"] > 39.688, \"Fare\"] = 4   "
   ]
  },
  {
   "cell_type": "code",
   "execution_count": null,
   "metadata": {},
   "outputs": [],
   "source": [
    "train_df.drop([\"FareBand\"], 1, inplace=True)"
   ]
  },
  {
   "cell_type": "code",
   "execution_count": null,
   "metadata": {},
   "outputs": [],
   "source": [
    "#创Familysize特征\n",
    "for data in total_data:\n",
    "    data[\"Familysize\"] = train_df[\"SibSp\"] + train_df[\"Parch\"] + 1\n",
    "\n",
    "train_df[[\"Survived\", \"Familysize\"]].groupby([\"Familysize\"]).mean()"
   ]
  },
  {
   "cell_type": "code",
   "execution_count": null,
   "metadata": {},
   "outputs": [],
   "source": [
    "#看一下Familysize的人数分布\n",
    "train_df[\"Familysize\"].value_counts().plot(kind=\"bar\", title=\"Familysize\")"
   ]
  },
  {
   "cell_type": "code",
   "execution_count": null,
   "metadata": {},
   "outputs": [],
   "source": [
    "#按家庭人数将乘客分类为单身，小家庭，大家庭（人数大于4的家庭）\n",
    "for data in total_data:\n",
    "    data.loc[data[\"Familysize\"] == 1, \"Familysize\"] = 0\n",
    "    data.loc[(data[\"Familysize\"] > 1) & (data[\"Familysize\"] <= 4), \"Familysize\"] = 1\n",
    "    data.loc[data[\"Familysize\"] > 4, \"Familysize\"] = 2"
   ]
  },
  {
   "cell_type": "code",
   "execution_count": null,
   "metadata": {},
   "outputs": [],
   "source": [
    "for data in total_data:\n",
    "    data.drop([\"SibSp\", \"Parch\"], 1, inplace=True)"
   ]
  },
  {
   "cell_type": "code",
   "execution_count": null,
   "metadata": {},
   "outputs": [],
   "source": [
    "#创建Sex*Pclass,Sex*Embarked和Age*Pclass特征\n",
    "for data in total_data:\n",
    "    data[\"Sex*Pclass\"] = data[\"Sex\"] * data[\"Pclass\"]\n",
    "    data[\"Sex*Embarked\"] = data[\"Sex\"] * data[\"Embarked\"]\n",
    "    #data[\"Age*Pclass\"] = data[\"Age\"]*data[\"Pclass\"]"
   ]
  },
  {
   "cell_type": "code",
   "execution_count": null,
   "metadata": {},
   "outputs": [],
   "source": [
    "for data in total_data:\n",
    "    data.drop([\"Embarked\"], 1, inplace=True)"
   ]
  },
  {
   "cell_type": "code",
   "execution_count": null,
   "metadata": {},
   "outputs": [],
   "source": [
    "#看一看各个特征的热图\n",
    "import seaborn as sns\n",
    "fig = plt.figure(figsize=(11,11))\n",
    "sns.heatmap(train_df.drop([\"PassengerId\"], 1).corr(), square=True, annot=True)"
   ]
  },
  {
   "cell_type": "code",
   "execution_count": null,
   "metadata": {},
   "outputs": [],
   "source": [
    "train_df.head(5), test_df.head(5)"
   ]
  },
  {
   "cell_type": "markdown",
   "metadata": {},
   "source": [
    "### ●模型建立"
   ]
  },
  {
   "cell_type": "code",
   "execution_count": null,
   "metadata": {},
   "outputs": [],
   "source": [
    "#准备训练集与测试集\n",
    "X_train = train_df.drop([\"PassengerId\", \"Survived\"], 1)\n",
    "y_train = train_df[\"Survived\"]\n",
    "X_test = test_df.drop([\"PassengerId\"], 1)\n",
    "X_train.shape, y_train.shape, X_test.shape"
   ]
  },
  {
   "cell_type": "code",
   "execution_count": null,
   "metadata": {},
   "outputs": [],
   "source": [
    "#将加载的模型函数放入一个字典\n",
    "clfs = {\"Logreg\":LogisticRegression(), \n",
    "        \"DT\":DecisionTreeClassifier(), \n",
    "        \"RFC\":RandomForestClassifier(), \n",
    "        \"SVC\":SVC(), \n",
    "        \"KNN\":KNeighborsClassifier()}"
   ]
  },
  {
   "cell_type": "code",
   "execution_count": null,
   "metadata": {},
   "outputs": [],
   "source": [
    "#交叉验证查看各个模型的准确率\n",
    "model_cross = [] #放置模型名称\n",
    "score_cross = [] #放置交叉验证的得分\n",
    "for name,clf in clfs.items():\n",
    "    model_cross.append(name)\n",
    "    clf = clf\n",
    "    score = cross_val_score(clf, X_train, y_train, cv=10, scoring=\"accuracy\")\n",
    "    score_cross.append(score.mean())\n",
    "\n",
    "df_cross_val_scores = pd.DataFrame({\"Model\":model_cross, \"Score\":score_cross})\n",
    "df_cross_val_scores.sort_values(by=\"Score\", ascending=False)"
   ]
  },
  {
   "cell_type": "code",
   "execution_count": null,
   "metadata": {},
   "outputs": [],
   "source": [
    "#看一看各个模型的情况\n",
    "model = [] #放置模型名称\n",
    "scores = [] #放置模型的准确率\n",
    "fited_clf = {}\n",
    "for name,clf in clfs.items():\n",
    "    clf = clf\n",
    "    clf.fit(X_train, y_train)\n",
    "    score = clf.score(X_train, y_train)\n",
    "    model.append(name)\n",
    "    scores.append(score)\n",
    "    fited_clf[name] = clf\n",
    "    \n",
    "df_scores = pd.DataFrame({\"Model\":model, \"score\":scores})\n",
    "df_scores.sort_values(by=\"score\", ascending=False)"
   ]
  },
  {
   "cell_type": "code",
   "execution_count": null,
   "metadata": {},
   "outputs": [],
   "source": [
    "#画出各个模型的学习曲线\n",
    "for name,clf in fited_clf.items():\n",
    "    test_sizes, train_score, test_score = learning_curve(clf, X_train, y_train, cv=10, train_sizes=np.linspace(0.05, 1.0, 20))\n",
    "    train_score_mean = np.mean(train_score, axis=1)\n",
    "    test_score_mean = np.mean(test_score, axis=1)\n",
    "    fig = plt.figure()\n",
    "    plt.plot(test_sizes, train_score_mean, \"o-\", c=\"r\")\n",
    "    plt.plot(test_sizes, test_score_mean, \"o-\", c=\"g\")\n",
    "    plt.grid()\n",
    "    plt.legend((\"train\", \"test\"), loc=\"best\")\n",
    "    plt.xlabel(name)\n",
    "    plt.ylabel(\"Score\")"
   ]
  },
  {
   "cell_type": "code",
   "execution_count": null,
   "metadata": {},
   "outputs": [],
   "source": [
    "#最后采用决策树进行预测\n",
    "prediction = fited_clf[\"DT\"].predict(X_test)\n",
    "prediction"
   ]
  },
  {
   "cell_type": "code",
   "execution_count": null,
   "metadata": {},
   "outputs": [],
   "source": [
    "submission = pd.DataFrame({\"PassengerId\":test_df[\"PassengerId\"], \"Survived\":prediction})\n",
    "submission"
   ]
  },
  {
   "cell_type": "code",
   "execution_count": null,
   "metadata": {},
   "outputs": [],
   "source": [
    "#submission.to_csv(\"my Titanic-0.csv\", index=False)"
   ]
  }
 ],
 "metadata": {
  "kernelspec": {
   "display_name": "Python 3",
   "language": "python",
   "name": "python3"
  },
  "language_info": {
   "codemirror_mode": {
    "name": "ipython",
    "version": 3
   },
   "file_extension": ".py",
   "mimetype": "text/x-python",
   "name": "python",
   "nbconvert_exporter": "python",
   "pygments_lexer": "ipython3",
   "version": "3.6.5"
  }
 },
 "nbformat": 4,
 "nbformat_minor": 2
}
