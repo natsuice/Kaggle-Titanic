{
 "cells": [
  {
   "cell_type": "code",
   "execution_count": 47,
   "metadata": {},
   "outputs": [],
   "source": [
    "#加载使用的库\n",
    "import pandas as pd\n",
    "import numpy as np\n",
    "import matplotlib.pyplot as plt\n",
    "import seaborn as sns\n",
    "%matplotlib inline\n",
    "\n",
    "from sklearn.model_selection import cross_val_score\n",
    "from sklearn.model_selection import learning_curve\n",
    "from sklearn.linear_model import LogisticRegression\n",
    "from sklearn.tree import DecisionTreeClassifier\n",
    "from sklearn.ensemble import RandomForestClassifier\n",
    "from sklearn.svm import SVC\n",
    "from sklearn.neighbors import KNeighborsClassifier"
   ]
  },
  {
   "cell_type": "markdown",
   "metadata": {},
   "source": [
    "### ●问题描述\n",
    "<p> 1912年4月15日，泰坦尼克号在她的处女航中撞上冰山后沉没，结束了她光辉而短暂的旅途。2224名乘客以及船员中有1502人丧生，存活率仅32%。\n",
    "<p> 现在我们得到了一份记录了乘客的各种信息以及该乘客是否生还的训练数据和一份含有乘客信息但生还未知的测试数据，我们要根据训练数据建立一个模型来预测测试数据中乘客的生还情况。"
   ]
  },
  {
   "cell_type": "markdown",
   "metadata": {},
   "source": [
    "### ●获取数据并初步观察"
   ]
  },
  {
   "cell_type": "code",
   "execution_count": 48,
   "metadata": {},
   "outputs": [],
   "source": [
    "#提取数据\n",
    "train_df = pd.read_csv(\"train.csv\")\n",
    "test_df = pd.read_csv(\"test.csv\")\n",
    "total_data = [train_df, test_df]"
   ]
  },
  {
   "cell_type": "code",
   "execution_count": 49,
   "metadata": {},
   "outputs": [
    {
     "name": "stdout",
     "output_type": "stream",
     "text": [
      "   PassengerId  Survived  Pclass  \\\n",
      "0            1         0       3   \n",
      "1            2         1       1   \n",
      "2            3         1       3   \n",
      "3            4         1       1   \n",
      "4            5         0       3   \n",
      "\n",
      "                                                Name     Sex   Age  SibSp  \\\n",
      "0                            Braund, Mr. Owen Harris    male  22.0      1   \n",
      "1  Cumings, Mrs. John Bradley (Florence Briggs Th...  female  38.0      1   \n",
      "2                             Heikkinen, Miss. Laina  female  26.0      0   \n",
      "3       Futrelle, Mrs. Jacques Heath (Lily May Peel)  female  35.0      1   \n",
      "4                           Allen, Mr. William Henry    male  35.0      0   \n",
      "\n",
      "   Parch            Ticket     Fare Cabin Embarked  \n",
      "0      0         A/5 21171   7.2500   NaN        S  \n",
      "1      0          PC 17599  71.2833   C85        C  \n",
      "2      0  STON/O2. 3101282   7.9250   NaN        S  \n",
      "3      0            113803  53.1000  C123        S  \n",
      "4      0            373450   8.0500   NaN        S  \n",
      "******************************************************************************************\n",
      "     PassengerId  Survived  Pclass                                      Name  \\\n",
      "886          887         0       2                     Montvila, Rev. Juozas   \n",
      "887          888         1       1              Graham, Miss. Margaret Edith   \n",
      "888          889         0       3  Johnston, Miss. Catherine Helen \"Carrie\"   \n",
      "889          890         1       1                     Behr, Mr. Karl Howell   \n",
      "890          891         0       3                       Dooley, Mr. Patrick   \n",
      "\n",
      "        Sex   Age  SibSp  Parch      Ticket   Fare Cabin Embarked  \n",
      "886    male  27.0      0      0      211536  13.00   NaN        S  \n",
      "887  female  19.0      0      0      112053  30.00   B42        S  \n",
      "888  female   NaN      1      2  W./C. 6607  23.45   NaN        S  \n",
      "889    male  26.0      0      0      111369  30.00  C148        C  \n",
      "890    male  32.0      0      0      370376   7.75   NaN        Q  \n"
     ]
    }
   ],
   "source": [
    "#简单观察几行数据\n",
    "print(train_df.head())\n",
    "print(\"*\"*90)\n",
    "print(train_df.tail())"
   ]
  },
  {
   "cell_type": "code",
   "execution_count": 50,
   "metadata": {},
   "outputs": [
    {
     "name": "stdout",
     "output_type": "stream",
     "text": [
      "<class 'pandas.core.frame.DataFrame'>\n",
      "RangeIndex: 891 entries, 0 to 890\n",
      "Data columns (total 12 columns):\n",
      "PassengerId    891 non-null int64\n",
      "Survived       891 non-null int64\n",
      "Pclass         891 non-null int64\n",
      "Name           891 non-null object\n",
      "Sex            891 non-null object\n",
      "Age            714 non-null float64\n",
      "SibSp          891 non-null int64\n",
      "Parch          891 non-null int64\n",
      "Ticket         891 non-null object\n",
      "Fare           891 non-null float64\n",
      "Cabin          204 non-null object\n",
      "Embarked       889 non-null object\n",
      "dtypes: float64(2), int64(5), object(5)\n",
      "memory usage: 66.2+ KB\n",
      "None\n",
      "*********************************************\n",
      "<class 'pandas.core.frame.DataFrame'>\n",
      "RangeIndex: 418 entries, 0 to 417\n",
      "Data columns (total 11 columns):\n",
      "PassengerId    418 non-null int64\n",
      "Pclass         418 non-null int64\n",
      "Name           418 non-null object\n",
      "Sex            418 non-null object\n",
      "Age            332 non-null float64\n",
      "SibSp          418 non-null int64\n",
      "Parch          418 non-null int64\n",
      "Ticket         418 non-null object\n",
      "Fare           417 non-null float64\n",
      "Cabin          91 non-null object\n",
      "Embarked       418 non-null object\n",
      "dtypes: float64(2), int64(4), object(5)\n",
      "memory usage: 27.8+ KB\n",
      "None\n"
     ]
    }
   ],
   "source": [
    "#查看数据的基本信息\n",
    "print(train_df.info())\n",
    "print(\"*\"*45)\n",
    "print(test_df.info())"
   ]
  },
  {
   "cell_type": "code",
   "execution_count": 51,
   "metadata": {},
   "outputs": [
    {
     "name": "stdout",
     "output_type": "stream",
     "text": [
      "       PassengerId    Survived      Pclass         Age       SibSp  \\\n",
      "count   891.000000  891.000000  891.000000  714.000000  891.000000   \n",
      "mean    446.000000    0.383838    2.308642   29.699118    0.523008   \n",
      "std     257.353842    0.486592    0.836071   14.526497    1.102743   \n",
      "min       1.000000    0.000000    1.000000    0.420000    0.000000   \n",
      "25%     223.500000    0.000000    2.000000   20.125000    0.000000   \n",
      "50%     446.000000    0.000000    3.000000   28.000000    0.000000   \n",
      "75%     668.500000    1.000000    3.000000   38.000000    1.000000   \n",
      "max     891.000000    1.000000    3.000000   80.000000    8.000000   \n",
      "\n",
      "            Parch        Fare  \n",
      "count  891.000000  891.000000  \n",
      "mean     0.381594   32.204208  \n",
      "std      0.806057   49.693429  \n",
      "min      0.000000    0.000000  \n",
      "25%      0.000000    7.910400  \n",
      "50%      0.000000   14.454200  \n",
      "75%      0.000000   31.000000  \n",
      "max      6.000000  512.329200  \n",
      "************************************************************\n",
      "                              Name   Sex Ticket    Cabin Embarked\n",
      "count                          891   891    891      204      889\n",
      "unique                         891     2    681      147        3\n",
      "top     Smart, Mr. John Montgomery  male   1601  B96 B98        S\n",
      "freq                             1   577      7        4      644\n",
      "************************************************************\n",
      "       PassengerId      Pclass         Age       SibSp       Parch        Fare\n",
      "count   418.000000  418.000000  332.000000  418.000000  418.000000  417.000000\n",
      "mean   1100.500000    2.265550   30.272590    0.447368    0.392344   35.627188\n",
      "std     120.810458    0.841838   14.181209    0.896760    0.981429   55.907576\n",
      "min     892.000000    1.000000    0.170000    0.000000    0.000000    0.000000\n",
      "25%     996.250000    1.000000   21.000000    0.000000    0.000000    7.895800\n",
      "50%    1100.500000    3.000000   27.000000    0.000000    0.000000   14.454200\n",
      "75%    1204.750000    3.000000   39.000000    1.000000    0.000000   31.500000\n",
      "max    1309.000000    3.000000   76.000000    8.000000    9.000000  512.329200\n",
      "************************************************************\n",
      "                            Name   Sex    Ticket            Cabin Embarked\n",
      "count                        418   418       418               91      418\n",
      "unique                       418     2       363               76        3\n",
      "top     Lundin, Miss. Olga Elida  male  PC 17608  B57 B59 B63 B66        S\n",
      "freq                           1   266         5                3      270\n",
      "************************************************************\n"
     ]
    }
   ],
   "source": [
    "#查看数据的统计情况\n",
    "for data in total_data:\n",
    "    print(data.describe())\n",
    "    print(\"*\"*60)\n",
    "    print(data.describe(include=[\"O\"]))\n",
    "    print(\"*\"*60)"
   ]
  },
  {
   "cell_type": "code",
   "execution_count": 52,
   "metadata": {},
   "outputs": [
    {
     "name": "stdout",
     "output_type": "stream",
     "text": [
      "PassengerId      0\n",
      "Survived         0\n",
      "Pclass           0\n",
      "Name             0\n",
      "Sex              0\n",
      "Age            177\n",
      "SibSp            0\n",
      "Parch            0\n",
      "Ticket           0\n",
      "Fare             0\n",
      "Cabin          687\n",
      "Embarked         2\n",
      "dtype: int64\n",
      "******************************\n",
      "PassengerId    0.000000\n",
      "Survived       0.000000\n",
      "Pclass         0.000000\n",
      "Name           0.000000\n",
      "Sex            0.000000\n",
      "Age            0.198653\n",
      "SibSp          0.000000\n",
      "Parch          0.000000\n",
      "Ticket         0.000000\n",
      "Fare           0.000000\n",
      "Cabin          0.771044\n",
      "Embarked       0.002245\n",
      "dtype: float64\n",
      "******************************\n",
      "PassengerId      0\n",
      "Pclass           0\n",
      "Name             0\n",
      "Sex              0\n",
      "Age             86\n",
      "SibSp            0\n",
      "Parch            0\n",
      "Ticket           0\n",
      "Fare             1\n",
      "Cabin          327\n",
      "Embarked         0\n",
      "dtype: int64\n",
      "******************************\n",
      "PassengerId    0.000000\n",
      "Pclass         0.000000\n",
      "Name           0.000000\n",
      "Sex            0.000000\n",
      "Age            0.205742\n",
      "SibSp          0.000000\n",
      "Parch          0.000000\n",
      "Ticket         0.000000\n",
      "Fare           0.002392\n",
      "Cabin          0.782297\n",
      "Embarked       0.000000\n",
      "dtype: float64\n",
      "******************************\n"
     ]
    }
   ],
   "source": [
    "#观察缺失值的情况\n",
    "for data in total_data:\n",
    "    print(data.isnull().sum())\n",
    "    print(\"*\"*30)\n",
    "    print(data.isnull().sum()/len(data))\n",
    "    print(\"*\"*30)"
   ]
  },
  {
   "cell_type": "markdown",
   "metadata": {
    "collapsed": true
   },
   "source": [
    "#### 初步观察后得到一些信息\n",
    "<p> 训练集中一共有891位乘客信息（577名男性乘客)，测试集中有418位乘客信息(266名男性乘客）；\n",
    "<p> 训练集（train_df）中一共12列数据，其中Survived列为我们需要预测的标签（label），其他11列为特征（feature）\n",
    "<p> 数量型数据  \n",
    "   离散型：SibSp Parch  \n",
    "   连续型：Age Fare\n",
    "<p> 分类型数据  \n",
    "   Name Sex Ticket Cabin Embarked Survived    \n",
    "   定序型：Pclass\n",
    "<p> PassengerId是一个序列，对数据没有任何作用    \n",
    "<p> Survived中，1代表生还，0代表遇难；从训练集的mean中可以看到乘客生还率为38%\n",
    "<p> Pclass分为1，2，3；中位数是3，可知1代表头等舱，2次之，3为普通席\n",
    "<p> Age 乘客平均年龄29岁，中位数28岁，最小4个月大，最大80岁\n",
    "<p> SibSp和Parch跟家庭成员有关，从数据可以看出75%的乘客都是单独出行\n",
    "<p> Fare中可以看出，有少部分土豪乘客，票价高达512磅。\n",
    "<p> Name全是独立数据\n",
    "<p> Ticket有超过75%的独立值\n",
    "<p> Embarked有S、C、Q三种，S最多，占72%   \n",
    "<p> 训练集中Age、Cabin和Embarked有缺失值；测试集中Age、Cabin和Fare有缺失值    "
   ]
  },
  {
   "cell_type": "markdown",
   "metadata": {},
   "source": [
    "### ●进一步分析数据\n",
    "<p> 为了预测乘客是否生还，我们需要进一步分析出哪些特征或哪些特征组合与Survied有关联"
   ]
  },
  {
   "cell_type": "code",
   "execution_count": 53,
   "metadata": {},
   "outputs": [
    {
     "name": "stdout",
     "output_type": "stream",
     "text": [
      "        Pclass  Survived\n",
      "Pclass                  \n",
      "1          1.0  0.629630\n",
      "2          2.0  0.472826\n",
      "3          3.0  0.242363\n",
      "******************************\n",
      "        Survived\n",
      "Sex             \n",
      "female  0.742038\n",
      "male    0.188908\n",
      "******************************\n",
      "       SibSp  Survived\n",
      "SibSp                 \n",
      "0        0.0  0.345395\n",
      "1        1.0  0.535885\n",
      "2        2.0  0.464286\n",
      "3        3.0  0.250000\n",
      "4        4.0  0.166667\n",
      "5        5.0  0.000000\n",
      "8        8.0  0.000000\n",
      "******************************\n",
      "       Parch  Survived\n",
      "Parch                 \n",
      "0        0.0  0.343658\n",
      "1        1.0  0.550847\n",
      "2        2.0  0.500000\n",
      "3        3.0  0.600000\n",
      "4        4.0  0.000000\n",
      "5        5.0  0.200000\n",
      "6        6.0  0.000000\n",
      "******************************\n"
     ]
    }
   ],
   "source": [
    "#首先看一看几个没有确实值，分类型，离散型，定序型特征的存活率\n",
    "for feature in ['Pclass', 'Sex', 'SibSp', 'Parch']:\n",
    "    print(train_df[[feature,\"Survived\"]].groupby(train_df[feature]).mean())\n",
    "    print(\"*\"*30)"
   ]
  },
  {
   "cell_type": "code",
   "execution_count": 54,
   "metadata": {},
   "outputs": [
    {
     "data": {
      "image/png": "[encoded data removed]",
      "text/plain": [
       "<Figure size 720x720 with 4 Axes>"
      ]
     },
     "metadata": {},
     "output_type": "display_data"
    }
   ],
   "source": [
    "#画出条形图\n",
    "fig, axes = plt.subplots(2,2, figsize=(10,10))\n",
    "for i,feature in {(0,0): 'Pclass', (0,1): 'Sex', (1,0): 'SibSp', (1,1): 'Parch'}.items():\n",
    "    survived = train_df[feature][train_df[\"Survived\"] == 1].value_counts()\n",
    "    not_survived = train_df[feature][train_df[\"Survived\"] == 0].value_counts()\n",
    "    df = pd.DataFrame({\"survived\": survived, \"not survived\":not_survived})\n",
    "    df.plot(kind=\"bar\", stacked=True, ax=axes[i], grid=True, rot=1, title=feature)"
   ]
  },
  {
   "cell_type": "markdown",
   "metadata": {},
   "source": [
    "<p> Pclass的头等舱有6成能获救，次等级舱4成，而一般乘客不到3成，土豪的获救率超过一般平民。   \n",
    "   女性则超过7成能获救，男性不到2成，绅士们将Lady First的原则贯彻的很彻底，那怕在这种生死攸关的时刻。   \n",
    "   单身人事占比远远超过结伴出行的人。"
   ]
  },
  {
   "cell_type": "code",
   "execution_count": 55,
   "metadata": {},
   "outputs": [
    {
     "data": {
      "text/plain": [
       "<matplotlib.axes._subplots.AxesSubplot at 0xa29d3b0>"
      ]
     },
     "execution_count": 55,
     "metadata": {},
     "output_type": "execute_result"
    },
    {
     "data": {
      "image/png": "[encoded data removed]",
      "text/plain": [
       "<Figure size 432x288 with 1 Axes>"
      ]
     },
     "metadata": {},
     "output_type": "display_data"
    }
   ],
   "source": [
    "#看一看Pclass中Sex的获救情况\n",
    "train_df.groupby([\"Pclass\", \"Sex\"])[\"Survived\"].value_counts().plot(kind=\"barh\", title=\"Pclass & Sex\")"
   ]
  },
  {
   "cell_type": "code",
   "execution_count": 56,
   "metadata": {},
   "outputs": [
    {
     "data": {
      "text/plain": [
       "<matplotlib.axes._subplots.AxesSubplot at 0xe2a2dd0>"
      ]
     },
     "execution_count": 56,
     "metadata": {},
     "output_type": "execute_result"
    },
    {
     "data": {
      "image/png": "[encoded data removed]",
      "text/plain": [
       "<Figure size 432x288 with 1 Axes>"
      ]
     },
     "metadata": {},
     "output_type": "display_data"
    }
   ],
   "source": [
    "#看一看Embarked中Sex的获救情况\n",
    "train_df.groupby([\"Embarked\", \"Sex\"])[\"Survived\"].value_counts().plot(kind=\"barh\", title=\"Embarked & Sex\")"
   ]
  },
  {
   "cell_type": "code",
   "execution_count": 57,
   "metadata": {},
   "outputs": [
    {
     "data": {
      "text/plain": [
       "Pclass  Sex   \n",
       "1       female    0.968085\n",
       "        male      0.368852\n",
       "2       female    0.921053\n",
       "        male      0.157407\n",
       "3       female    0.500000\n",
       "        male      0.135447\n",
       "Name: Survived, dtype: float64"
      ]
     },
     "execution_count": 57,
     "metadata": {},
     "output_type": "execute_result"
    }
   ],
   "source": [
    "#查看Pclass中Sex的存活率\n",
    "train_df.groupby([\"Pclass\", \"Sex\"])[\"Survived\"].mean()"
   ]
  },
  {
   "cell_type": "code",
   "execution_count": 58,
   "metadata": {},
   "outputs": [
    {
     "data": {
      "text/plain": [
       "Embarked  Sex   \n",
       "C         female    0.876712\n",
       "          male      0.305263\n",
       "Q         female    0.750000\n",
       "          male      0.073171\n",
       "S         female    0.689655\n",
       "          male      0.174603\n",
       "Name: Survived, dtype: float64"
      ]
     },
     "execution_count": 58,
     "metadata": {},
     "output_type": "execute_result"
    }
   ],
   "source": [
    "#查看Embarked中Sex的存活率\n",
    "train_df.groupby([\"Embarked\", \"Sex\"])[\"Survived\"].mean()"
   ]
  },
  {
   "cell_type": "markdown",
   "metadata": {},
   "source": [
    "<p> 从图中与数字比例可以看出头等舱中的女性以及C港口的女性获救率分别高达96%与87%\n",
    "<p> 头等舱中以及C港口中的男性获救率分别为36%与30%\n",
    "<p> 可以考虑将舱位与性别以及港口与性别分别作组合特称"
   ]
  },
  {
   "cell_type": "code",
   "execution_count": 59,
   "metadata": {},
   "outputs": [
    {
     "data": {
      "text/plain": [
       "(0, 85)"
      ]
     },
     "execution_count": 59,
     "metadata": {},
     "output_type": "execute_result"
    },
    {
     "data": {
      "image/png": "[encoded data removed]",
      "text/plain": [
       "<Figure size 936x360 with 2 Axes>"
      ]
     },
     "metadata": {},
     "output_type": "display_data"
    }
   ],
   "source": [
    "#现在我们来看看Age特征\n",
    "fig= plt.figure(figsize=(13,5))\n",
    "plt.subplot(121)\n",
    "train_df[\"Age\"][train_df[\"Survived\"] == 1].plot(kind=\"hist\", bins=30, color=\"lightblue\")\n",
    "plt.xlabel(\"survived\")\n",
    "plt.xlim([0,85])\n",
    "\n",
    "plt.subplot(122)\n",
    "train_df[\"Age\"][train_df[\"Survived\"] == 0].plot(kind=\"hist\", bins=30, color=\"darkred\")\n",
    "plt.xlabel(\"not survived\")\n",
    "plt.xlim([0,85])"
   ]
  },
  {
   "cell_type": "markdown",
   "metadata": {},
   "source": [
    "<p> 可以看出10岁以下（可能8岁）具有较高的存活率，80岁以上都有存活。\n",
    "<p> 虽然生死攸关，但绅士们还是坚持女士与小孩优先原则。"
   ]
  },
  {
   "cell_type": "markdown",
   "metadata": {},
   "source": [
    "### ●对数据进行特征清理"
   ]
  },
  {
   "cell_type": "code",
   "execution_count": 60,
   "metadata": {},
   "outputs": [
    {
     "data": {
      "text/plain": [
       "Index(['PassengerId', 'Survived', 'Pclass', 'Name', 'Sex', 'Age', 'SibSp',\n",
       "       'Parch', 'Ticket', 'Fare', 'Cabin', 'Embarked'],\n",
       "      dtype='object')"
      ]
     },
     "execution_count": 60,
     "metadata": {},
     "output_type": "execute_result"
    }
   ],
   "source": [
    "train_df.columns"
   ]
  },
  {
   "cell_type": "code",
   "execution_count": 61,
   "metadata": {},
   "outputs": [],
   "source": [
    "#先删除不需要的数据\n",
    "for data in total_data:\n",
    "    data.drop([\"Ticket\", \"Cabin\"], 1, inplace=True)"
   ]
  },
  {
   "cell_type": "code",
   "execution_count": 62,
   "metadata": {},
   "outputs": [],
   "source": [
    "#将Sex特征转换为分类型\n",
    "for data in total_data:\n",
    "    data[\"Sex\"] = data[\"Sex\"].map({\"female\":1, \"male\":0}).astype(int)"
   ]
  },
  {
   "cell_type": "code",
   "execution_count": 63,
   "metadata": {},
   "outputs": [],
   "source": [
    "#用众数将Embarked特征补充完整并转换为分类型\n",
    "train_df[\"Embarked\"].fillna(train_df[\"Embarked\"].mode()[0], inplace=True)\n",
    "\n",
    "for data in total_data:\n",
    "    data[\"Embarked\"] = data[\"Embarked\"].map({\"C\":2, \"Q\":1, \"S\":0}).astype(int)"
   ]
  },
  {
   "cell_type": "code",
   "execution_count": 64,
   "metadata": {},
   "outputs": [],
   "source": [
    "#将Name特征中的Title提取出来\n",
    "for data in total_data:\n",
    "    data[\"Title\"] = data.Name.str.extract(\" ([A-Za-z]+)\\.\", expand=False)"
   ]
  },
  {
   "cell_type": "code",
   "execution_count": 65,
   "metadata": {},
   "outputs": [
    {
     "data": {
      "text/html": [
       "<div>\n",
       "<style scoped>\n",
       "    .dataframe tbody tr th:only-of-type {\n",
       "        vertical-align: middle;\n",
       "    }\n",
       "\n",
       "    .dataframe tbody tr th {\n",
       "        vertical-align: top;\n",
       "    }\n",
       "\n",
       "    .dataframe thead th {\n",
       "        text-align: right;\n",
       "    }\n",
       "</style>\n",
       "<table border=\"1\" class=\"dataframe\">\n",
       "  <thead>\n",
       "    <tr style=\"text-align: right;\">\n",
       "      <th>Sex</th>\n",
       "      <th>0</th>\n",
       "      <th>1</th>\n",
       "    </tr>\n",
       "    <tr>\n",
       "      <th>Title</th>\n",
       "      <th></th>\n",
       "      <th></th>\n",
       "    </tr>\n",
       "  </thead>\n",
       "  <tbody>\n",
       "    <tr>\n",
       "      <th>Col</th>\n",
       "      <td>2</td>\n",
       "      <td>0</td>\n",
       "    </tr>\n",
       "    <tr>\n",
       "      <th>Dona</th>\n",
       "      <td>0</td>\n",
       "      <td>1</td>\n",
       "    </tr>\n",
       "    <tr>\n",
       "      <th>Dr</th>\n",
       "      <td>1</td>\n",
       "      <td>0</td>\n",
       "    </tr>\n",
       "    <tr>\n",
       "      <th>Master</th>\n",
       "      <td>21</td>\n",
       "      <td>0</td>\n",
       "    </tr>\n",
       "    <tr>\n",
       "      <th>Miss</th>\n",
       "      <td>0</td>\n",
       "      <td>78</td>\n",
       "    </tr>\n",
       "    <tr>\n",
       "      <th>Mr</th>\n",
       "      <td>240</td>\n",
       "      <td>0</td>\n",
       "    </tr>\n",
       "    <tr>\n",
       "      <th>Mrs</th>\n",
       "      <td>0</td>\n",
       "      <td>72</td>\n",
       "    </tr>\n",
       "    <tr>\n",
       "      <th>Ms</th>\n",
       "      <td>0</td>\n",
       "      <td>1</td>\n",
       "    </tr>\n",
       "    <tr>\n",
       "      <th>Rev</th>\n",
       "      <td>2</td>\n",
       "      <td>0</td>\n",
       "    </tr>\n",
       "  </tbody>\n",
       "</table>\n",
       "</div>"
      ],
      "text/plain": [
       "Sex       0   1\n",
       "Title          \n",
       "Col       2   0\n",
       "Dona      0   1\n",
       "Dr        1   0\n",
       "Master   21   0\n",
       "Miss      0  78\n",
       "Mr      240   0\n",
       "Mrs       0  72\n",
       "Ms        0   1\n",
       "Rev       2   0"
      ]
     },
     "execution_count": 65,
     "metadata": {},
     "output_type": "execute_result"
    }
   ],
   "source": [
    "#看一看各个title出现的频次\n",
    "pd.crosstab(test_df[\"Title\"],test_df[\"Sex\"])"
   ]
  },
  {
   "cell_type": "code",
   "execution_count": 66,
   "metadata": {},
   "outputs": [],
   "source": [
    "#将意义相同的title归为一类，将出现次数较少以及不知道含义的title归类为Rare\n",
    "for data in total_data:\n",
    "    data[\"Title\"].replace([\"Capt\", \"Col\", \"Don\", \"Dr\", \"Jonkheer\", \"Major\", \"Rev\", \"Sir\"], \"Rare\", inplace=True)\n",
    "    data[\"Title\"].replace([\"Countess\", \"Mme\",\"Ms\", \"Dona\"], \"Mrs\", inplace=True)\n",
    "    data[\"Title\"].replace([\"Lady\", \"Mlle\"], \"Miss\", inplace=True)"
   ]
  },
  {
   "cell_type": "code",
   "execution_count": 67,
   "metadata": {},
   "outputs": [
    {
     "data": {
      "text/plain": [
       "Title\n",
       "Master    0.575000\n",
       "Miss      0.702703\n",
       "Mr        0.156673\n",
       "Mrs       0.796875\n",
       "Rare      0.285714\n",
       "Name: Survived, dtype: float64"
      ]
     },
     "execution_count": 67,
     "metadata": {},
     "output_type": "execute_result"
    }
   ],
   "source": [
    "#看一下分类后各个titile的存活率\n",
    "train_df[[\"Title\", \"Survived\"]].groupby(\"Title\")[\"Survived\"].mean()"
   ]
  },
  {
   "cell_type": "code",
   "execution_count": 68,
   "metadata": {},
   "outputs": [],
   "source": [
    "#将title转换为分类型\n",
    "title_mapping = {\"Mrs\":1, \"Miss\":2, \"Master\":3, \"Mr\":4, \"Rare\":5}\n",
    "\n",
    "for data in total_data:\n",
    "    data[\"Title\"] = data[\"Title\"].map(title_mapping)\n",
    "    data[\"Title\"] = data[\"Title\"].fillna(0)"
   ]
  },
  {
   "cell_type": "code",
   "execution_count": 69,
   "metadata": {},
   "outputs": [],
   "source": [
    "#将Name特征删除\n",
    "for data in total_data:\n",
    "    data.drop([\"Name\"], 1, inplace=True)"
   ]
  },
  {
   "cell_type": "code",
   "execution_count": 70,
   "metadata": {},
   "outputs": [],
   "source": [
    "#将Age补充完整，用平均值代替\n",
    "for data in total_data:\n",
    "    mean_age = data[\"Age\"].mean()\n",
    "    std_age = data[\"Age\"].std()\n",
    "    nan_size = len(data[\"Age\"]) - data[\"Age\"].count()\n",
    "    fill_age_list = np.random.randint(mean_age-std_age, mean_age+std_age, nan_size)\n",
    "    data.loc[np.isnan(data[\"Age\"]), \"Age\"] = fill_age_list\n",
    "    data[\"Age\"] = data[\"Age\"].astype(int)"
   ]
  },
  {
   "cell_type": "code",
   "execution_count": 71,
   "metadata": {},
   "outputs": [
    {
     "data": {
      "text/html": [
       "<div>\n",
       "<style scoped>\n",
       "    .dataframe tbody tr th:only-of-type {\n",
       "        vertical-align: middle;\n",
       "    }\n",
       "\n",
       "    .dataframe tbody tr th {\n",
       "        vertical-align: top;\n",
       "    }\n",
       "\n",
       "    .dataframe thead th {\n",
       "        text-align: right;\n",
       "    }\n",
       "</style>\n",
       "<table border=\"1\" class=\"dataframe\">\n",
       "  <thead>\n",
       "    <tr style=\"text-align: right;\">\n",
       "      <th></th>\n",
       "      <th>Survived</th>\n",
       "    </tr>\n",
       "    <tr>\n",
       "      <th>AgeBand</th>\n",
       "      <th></th>\n",
       "    </tr>\n",
       "  </thead>\n",
       "  <tbody>\n",
       "    <tr>\n",
       "      <th>(-0.08, 8.0]</th>\n",
       "      <td>0.666667</td>\n",
       "    </tr>\n",
       "    <tr>\n",
       "      <th>(8.0, 16.0]</th>\n",
       "      <td>0.396552</td>\n",
       "    </tr>\n",
       "    <tr>\n",
       "      <th>(16.0, 24.0]</th>\n",
       "      <td>0.348018</td>\n",
       "    </tr>\n",
       "    <tr>\n",
       "      <th>(24.0, 32.0]</th>\n",
       "      <td>0.348624</td>\n",
       "    </tr>\n",
       "    <tr>\n",
       "      <th>(32.0, 40.0]</th>\n",
       "      <td>0.413174</td>\n",
       "    </tr>\n",
       "    <tr>\n",
       "      <th>(40.0, 48.0]</th>\n",
       "      <td>0.321839</td>\n",
       "    </tr>\n",
       "    <tr>\n",
       "      <th>(48.0, 56.0]</th>\n",
       "      <td>0.466667</td>\n",
       "    </tr>\n",
       "    <tr>\n",
       "      <th>(56.0, 64.0]</th>\n",
       "      <td>0.375000</td>\n",
       "    </tr>\n",
       "    <tr>\n",
       "      <th>(64.0, 72.0]</th>\n",
       "      <td>0.000000</td>\n",
       "    </tr>\n",
       "    <tr>\n",
       "      <th>(72.0, 80.0]</th>\n",
       "      <td>0.500000</td>\n",
       "    </tr>\n",
       "  </tbody>\n",
       "</table>\n",
       "</div>"
      ],
      "text/plain": [
       "              Survived\n",
       "AgeBand               \n",
       "(-0.08, 8.0]  0.666667\n",
       "(8.0, 16.0]   0.396552\n",
       "(16.0, 24.0]  0.348018\n",
       "(24.0, 32.0]  0.348624\n",
       "(32.0, 40.0]  0.413174\n",
       "(40.0, 48.0]  0.321839\n",
       "(48.0, 56.0]  0.466667\n",
       "(56.0, 64.0]  0.375000\n",
       "(64.0, 72.0]  0.000000\n",
       "(72.0, 80.0]  0.500000"
      ]
     },
     "execution_count": 71,
     "metadata": {},
     "output_type": "execute_result"
    }
   ],
   "source": [
    "#将Age转换位分类型\n",
    "train_df[\"AgeBand\"] = pd.cut(train_df[\"Age\"], bins=10)\n",
    "train_df[[\"AgeBand\", \"Survived\"]].groupby(train_df[\"AgeBand\"]).mean()"
   ]
  },
  {
   "cell_type": "code",
   "execution_count": 72,
   "metadata": {},
   "outputs": [],
   "source": [
    "#存活率接近的年龄段归为一类\n",
    "for data in total_data:\n",
    "    data.loc[data[\"Age\"] <= 8, \"Age\"] = 0\n",
    "    data.loc[(data[\"Age\"] > 8) & (data[\"Age\"] <=48), \"Age\"] = 1\n",
    "    data.loc[(data[\"Age\"]) > 48 & (data[\"Age\"] <=64), \"Age\"] = 2\n",
    "    data.loc[(data[\"Age\"] > 64) & (data[\"Age\"] <=72), \"Age\"] = 3\n",
    "    data.loc[data[\"Age\"] > 72, \"Age\"] = 4"
   ]
  },
  {
   "cell_type": "code",
   "execution_count": 73,
   "metadata": {},
   "outputs": [],
   "source": [
    "#将AgeBand删除\n",
    "train_df.drop([\"AgeBand\"], 1, inplace=True)"
   ]
  },
  {
   "cell_type": "code",
   "execution_count": 74,
   "metadata": {},
   "outputs": [
    {
     "data": {
      "text/html": [
       "<div>\n",
       "<style scoped>\n",
       "    .dataframe tbody tr th:only-of-type {\n",
       "        vertical-align: middle;\n",
       "    }\n",
       "\n",
       "    .dataframe tbody tr th {\n",
       "        vertical-align: top;\n",
       "    }\n",
       "\n",
       "    .dataframe thead th {\n",
       "        text-align: right;\n",
       "    }\n",
       "</style>\n",
       "<table border=\"1\" class=\"dataframe\">\n",
       "  <thead>\n",
       "    <tr style=\"text-align: right;\">\n",
       "      <th></th>\n",
       "      <th>Survived</th>\n",
       "    </tr>\n",
       "    <tr>\n",
       "      <th>FareBand</th>\n",
       "      <th></th>\n",
       "    </tr>\n",
       "  </thead>\n",
       "  <tbody>\n",
       "    <tr>\n",
       "      <th>(-0.001, 7.854]</th>\n",
       "      <td>0.217877</td>\n",
       "    </tr>\n",
       "    <tr>\n",
       "      <th>(7.854, 10.5]</th>\n",
       "      <td>0.201087</td>\n",
       "    </tr>\n",
       "    <tr>\n",
       "      <th>(10.5, 21.679]</th>\n",
       "      <td>0.424419</td>\n",
       "    </tr>\n",
       "    <tr>\n",
       "      <th>(21.679, 39.688]</th>\n",
       "      <td>0.444444</td>\n",
       "    </tr>\n",
       "    <tr>\n",
       "      <th>(39.688, 512.329]</th>\n",
       "      <td>0.642045</td>\n",
       "    </tr>\n",
       "  </tbody>\n",
       "</table>\n",
       "</div>"
      ],
      "text/plain": [
       "                   Survived\n",
       "FareBand                   \n",
       "(-0.001, 7.854]    0.217877\n",
       "(7.854, 10.5]      0.201087\n",
       "(10.5, 21.679]     0.424419\n",
       "(21.679, 39.688]   0.444444\n",
       "(39.688, 512.329]  0.642045"
      ]
     },
     "execution_count": 74,
     "metadata": {},
     "output_type": "execute_result"
    }
   ],
   "source": [
    "#将Fare转换为分类型\n",
    "test_df[\"Fare\"].fillna(test_df[\"Fare\"].dropna().median(), inplace=True)\n",
    "\n",
    "train_df[\"FareBand\"] = pd.qcut(train_df[\"Fare\"], 5)\n",
    "train_df[[\"FareBand\", \"Survived\"]].groupby([\"FareBand\"]).mean()"
   ]
  },
  {
   "cell_type": "code",
   "execution_count": 75,
   "metadata": {},
   "outputs": [],
   "source": [
    "for data in total_data:\n",
    "    data.loc[data[\"Fare\"] <= 7.854, \"Fare\"] = 0\n",
    "    data.loc[(data[\"Fare\"] > 7.854) & (data[\"Fare\"] <= 10.5), \"Fare\"] = 1\n",
    "    data.loc[(data[\"Fare\"] > 10.5) & (data[\"Fare\"] <= 21.679), \"Fare\"] = 2\n",
    "    data.loc[(data[\"Fare\"] > 21.679) & (data[\"Fare\"] <= 39.688), \"Fare\"] = 3\n",
    "    data.loc[data[\"Fare\"] > 39.688, \"Fare\"] = 4   "
   ]
  },
  {
   "cell_type": "code",
   "execution_count": 76,
   "metadata": {},
   "outputs": [],
   "source": [
    "train_df.drop([\"FareBand\"], 1, inplace=True)"
   ]
  },
  {
   "cell_type": "code",
   "execution_count": 77,
   "metadata": {},
   "outputs": [
    {
     "data": {
      "text/html": [
       "<div>\n",
       "<style scoped>\n",
       "    .dataframe tbody tr th:only-of-type {\n",
       "        vertical-align: middle;\n",
       "    }\n",
       "\n",
       "    .dataframe tbody tr th {\n",
       "        vertical-align: top;\n",
       "    }\n",
       "\n",
       "    .dataframe thead th {\n",
       "        text-align: right;\n",
       "    }\n",
       "</style>\n",
       "<table border=\"1\" class=\"dataframe\">\n",
       "  <thead>\n",
       "    <tr style=\"text-align: right;\">\n",
       "      <th></th>\n",
       "      <th>Survived</th>\n",
       "    </tr>\n",
       "    <tr>\n",
       "      <th>Familysize</th>\n",
       "      <th></th>\n",
       "    </tr>\n",
       "  </thead>\n",
       "  <tbody>\n",
       "    <tr>\n",
       "      <th>1</th>\n",
       "      <td>0.303538</td>\n",
       "    </tr>\n",
       "    <tr>\n",
       "      <th>2</th>\n",
       "      <td>0.552795</td>\n",
       "    </tr>\n",
       "    <tr>\n",
       "      <th>3</th>\n",
       "      <td>0.578431</td>\n",
       "    </tr>\n",
       "    <tr>\n",
       "      <th>4</th>\n",
       "      <td>0.724138</td>\n",
       "    </tr>\n",
       "    <tr>\n",
       "      <th>5</th>\n",
       "      <td>0.200000</td>\n",
       "    </tr>\n",
       "    <tr>\n",
       "      <th>6</th>\n",
       "      <td>0.136364</td>\n",
       "    </tr>\n",
       "    <tr>\n",
       "      <th>7</th>\n",
       "      <td>0.333333</td>\n",
       "    </tr>\n",
       "    <tr>\n",
       "      <th>8</th>\n",
       "      <td>0.000000</td>\n",
       "    </tr>\n",
       "    <tr>\n",
       "      <th>11</th>\n",
       "      <td>0.000000</td>\n",
       "    </tr>\n",
       "  </tbody>\n",
       "</table>\n",
       "</div>"
      ],
      "text/plain": [
       "            Survived\n",
       "Familysize          \n",
       "1           0.303538\n",
       "2           0.552795\n",
       "3           0.578431\n",
       "4           0.724138\n",
       "5           0.200000\n",
       "6           0.136364\n",
       "7           0.333333\n",
       "8           0.000000\n",
       "11          0.000000"
      ]
     },
     "execution_count": 77,
     "metadata": {},
     "output_type": "execute_result"
    }
   ],
   "source": [
    "#创Familysize特征\n",
    "for data in total_data:\n",
    "    data[\"Familysize\"] = train_df[\"SibSp\"] + train_df[\"Parch\"] + 1\n",
    "\n",
    "train_df[[\"Survived\", \"Familysize\"]].groupby([\"Familysize\"]).mean()"
   ]
  },
  {
   "cell_type": "code",
   "execution_count": 78,
   "metadata": {},
   "outputs": [
    {
     "data": {
      "text/plain": [
       "<matplotlib.axes._subplots.AxesSubplot at 0x9f872f0>"
      ]
     },
     "execution_count": 78,
     "metadata": {},
     "output_type": "execute_result"
    },
    {
     "data": {
      "image/png": "[encoded data removed]",
      "text/plain": [
       "<Figure size 432x288 with 1 Axes>"
      ]
     },
     "metadata": {},
     "output_type": "display_data"
    }
   ],
   "source": [
    "#看一下Familysize的人数分布\n",
    "train_df[\"Familysize\"].value_counts().plot(kind=\"bar\", title=\"Familysize\")"
   ]
  },
  {
   "cell_type": "code",
   "execution_count": 79,
   "metadata": {},
   "outputs": [],
   "source": [
    "#按家庭人数将乘客分类为单身，小家庭，大家庭（人数大于4的家庭）\n",
    "for data in total_data:\n",
    "    data.loc[data[\"Familysize\"] == 1, \"Familysize\"] = 0\n",
    "    data.loc[(data[\"Familysize\"] > 1) & (data[\"Familysize\"] <= 4), \"Familysize\"] = 1\n",
    "    data.loc[data[\"Familysize\"] > 4, \"Familysize\"] = 2"
   ]
  },
  {
   "cell_type": "code",
   "execution_count": 80,
   "metadata": {},
   "outputs": [],
   "source": [
    "for data in total_data:\n",
    "    data.drop([\"SibSp\", \"Parch\"], 1, inplace=True)"
   ]
  },
  {
   "cell_type": "code",
   "execution_count": 81,
   "metadata": {},
   "outputs": [],
   "source": [
    "#创建Sex*Pclass,Sex*Embarked和Age*Pclass特征\n",
    "for data in total_data:\n",
    "    data[\"Sex*Pclass\"] = data[\"Sex\"] * data[\"Pclass\"]\n",
    "    data[\"Sex*Embarked\"] = data[\"Sex\"] * data[\"Embarked\"]\n",
    "    #data[\"Age*Pclass\"] = data[\"Age\"]*data[\"Pclass\"]"
   ]
  },
  {
   "cell_type": "code",
   "execution_count": 82,
   "metadata": {},
   "outputs": [],
   "source": [
    "for data in total_data:\n",
    "    data.drop([\"Embarked\"], 1, inplace=True)"
   ]
  },
  {
   "cell_type": "code",
   "execution_count": 83,
   "metadata": {},
   "outputs": [
    {
     "data": {
      "text/plain": [
       "<matplotlib.axes._subplots.AxesSubplot at 0x9f7c4d0>"
      ]
     },
     "execution_count": 83,
     "metadata": {},
     "output_type": "execute_result"
    },
    {
     "data": {
      "image/png": "[encoded data removed]",
      "text/plain": [
       "<Figure size 792x792 with 2 Axes>"
      ]
     },
     "metadata": {},
     "output_type": "display_data"
    }
   ],
   "source": [
    "#看一看各个特征的热图\n",
    "import seaborn as sns\n",
    "fig = plt.figure(figsize=(11,11))\n",
    "sns.heatmap(train_df.drop([\"PassengerId\"], 1).corr(), square=True, annot=True)"
   ]
  },
  {
   "cell_type": "code",
   "execution_count": 84,
   "metadata": {},
   "outputs": [
    {
     "data": {
      "text/plain": [
       "(   PassengerId  Survived  Pclass  Sex  Age  Fare  Title  Familysize  \\\n",
       " 0            1         0       3    0    2   0.0      4           1   \n",
       " 1            2         1       1    1    2   4.0      1           1   \n",
       " 2            3         1       3    1    2   1.0      2           0   \n",
       " 3            4         1       1    1    2   4.0      1           1   \n",
       " 4            5         0       3    0    2   1.0      4           0   \n",
       " \n",
       "    Sex*Pclass  Sex*Embarked  \n",
       " 0           0             0  \n",
       " 1           1             2  \n",
       " 2           3             0  \n",
       " 3           1             0  \n",
       " 4           0             0  ,\n",
       "    PassengerId  Pclass  Sex  Age  Fare  Title  Familysize  Sex*Pclass  \\\n",
       " 0          892       3    0    2   0.0      4           1           0   \n",
       " 1          893       3    1    2   0.0      1           1           3   \n",
       " 2          894       2    0    2   1.0      4           0           0   \n",
       " 3          895       3    0    2   1.0      4           1           0   \n",
       " 4          896       3    1    2   2.0      1           0           3   \n",
       " \n",
       "    Sex*Embarked  \n",
       " 0             0  \n",
       " 1             0  \n",
       " 2             0  \n",
       " 3             0  \n",
       " 4             0  )"
      ]
     },
     "execution_count": 84,
     "metadata": {},
     "output_type": "execute_result"
    }
   ],
   "source": [
    "train_df.head(5), test_df.head(5)"
   ]
  },
  {
   "cell_type": "markdown",
   "metadata": {},
   "source": [
    "### ●模型建立"
   ]
  },
  {
   "cell_type": "code",
   "execution_count": 85,
   "metadata": {},
   "outputs": [
    {
     "data": {
      "text/plain": [
       "((891, 8), (891,), (418, 8))"
      ]
     },
     "execution_count": 85,
     "metadata": {},
     "output_type": "execute_result"
    }
   ],
   "source": [
    "#准备训练集与测试集\n",
    "X_train = train_df.drop([\"PassengerId\", \"Survived\"], 1)\n",
    "y_train = train_df[\"Survived\"]\n",
    "X_test = test_df.drop([\"PassengerId\"], 1)\n",
    "X_train.shape, y_train.shape, X_test.shape"
   ]
  },
  {
   "cell_type": "code",
   "execution_count": 86,
   "metadata": {},
   "outputs": [],
   "source": [
    "#将加载的模型函数放入一个字典\n",
    "clfs = {\"Logreg\":LogisticRegression(), \n",
    "        \"DT\":DecisionTreeClassifier(), \n",
    "        \"RFC\":RandomForestClassifier(), \n",
    "        \"SVC\":SVC(), \n",
    "        \"KNN\":KNeighborsClassifier()}"
   ]
  },
  {
   "cell_type": "code",
   "execution_count": 87,
   "metadata": {},
   "outputs": [
    {
     "data": {
      "text/html": [
       "<div>\n",
       "<style scoped>\n",
       "    .dataframe tbody tr th:only-of-type {\n",
       "        vertical-align: middle;\n",
       "    }\n",
       "\n",
       "    .dataframe tbody tr th {\n",
       "        vertical-align: top;\n",
       "    }\n",
       "\n",
       "    .dataframe thead th {\n",
       "        text-align: right;\n",
       "    }\n",
       "</style>\n",
       "<table border=\"1\" class=\"dataframe\">\n",
       "  <thead>\n",
       "    <tr style=\"text-align: right;\">\n",
       "      <th></th>\n",
       "      <th>Model</th>\n",
       "      <th>Score</th>\n",
       "    </tr>\n",
       "  </thead>\n",
       "  <tbody>\n",
       "    <tr>\n",
       "      <th>2</th>\n",
       "      <td>RFC</td>\n",
       "      <td>0.836138</td>\n",
       "    </tr>\n",
       "    <tr>\n",
       "      <th>1</th>\n",
       "      <td>DT</td>\n",
       "      <td>0.831644</td>\n",
       "    </tr>\n",
       "    <tr>\n",
       "      <th>3</th>\n",
       "      <td>SVC</td>\n",
       "      <td>0.826026</td>\n",
       "    </tr>\n",
       "    <tr>\n",
       "      <th>4</th>\n",
       "      <td>KNN</td>\n",
       "      <td>0.823716</td>\n",
       "    </tr>\n",
       "    <tr>\n",
       "      <th>0</th>\n",
       "      <td>Logreg</td>\n",
       "      <td>0.815925</td>\n",
       "    </tr>\n",
       "  </tbody>\n",
       "</table>\n",
       "</div>"
      ],
      "text/plain": [
       "    Model     Score\n",
       "2     RFC  0.836138\n",
       "1      DT  0.831644\n",
       "3     SVC  0.826026\n",
       "4     KNN  0.823716\n",
       "0  Logreg  0.815925"
      ]
     },
     "execution_count": 87,
     "metadata": {},
     "output_type": "execute_result"
    }
   ],
   "source": [
    "#交叉验证查看各个模型的准确率\n",
    "model_cross = [] #放置模型名称\n",
    "score_cross = [] #放置交叉验证的得分\n",
    "for name,clf in clfs.items():\n",
    "    model_cross.append(name)\n",
    "    clf = clf\n",
    "    score = cross_val_score(clf, X_train, y_train, cv=10, scoring=\"accuracy\")\n",
    "    score_cross.append(score.mean())\n",
    "\n",
    "df_cross_val_scores = pd.DataFrame({\"Model\":model_cross, \"Score\":score_cross})\n",
    "df_cross_val_scores.sort_values(by=\"Score\", ascending=False)"
   ]
  },
  {
   "cell_type": "code",
   "execution_count": 88,
   "metadata": {},
   "outputs": [
    {
     "data": {
      "text/html": [
       "<div>\n",
       "<style scoped>\n",
       "    .dataframe tbody tr th:only-of-type {\n",
       "        vertical-align: middle;\n",
       "    }\n",
       "\n",
       "    .dataframe tbody tr th {\n",
       "        vertical-align: top;\n",
       "    }\n",
       "\n",
       "    .dataframe thead th {\n",
       "        text-align: right;\n",
       "    }\n",
       "</style>\n",
       "<table border=\"1\" class=\"dataframe\">\n",
       "  <thead>\n",
       "    <tr style=\"text-align: right;\">\n",
       "      <th></th>\n",
       "      <th>Model</th>\n",
       "      <th>score</th>\n",
       "    </tr>\n",
       "  </thead>\n",
       "  <tbody>\n",
       "    <tr>\n",
       "      <th>1</th>\n",
       "      <td>DT</td>\n",
       "      <td>0.861953</td>\n",
       "    </tr>\n",
       "    <tr>\n",
       "      <th>2</th>\n",
       "      <td>RFC</td>\n",
       "      <td>0.860831</td>\n",
       "    </tr>\n",
       "    <tr>\n",
       "      <th>4</th>\n",
       "      <td>KNN</td>\n",
       "      <td>0.843996</td>\n",
       "    </tr>\n",
       "    <tr>\n",
       "      <th>0</th>\n",
       "      <td>Logreg</td>\n",
       "      <td>0.829405</td>\n",
       "    </tr>\n",
       "    <tr>\n",
       "      <th>3</th>\n",
       "      <td>SVC</td>\n",
       "      <td>0.829405</td>\n",
       "    </tr>\n",
       "  </tbody>\n",
       "</table>\n",
       "</div>"
      ],
      "text/plain": [
       "    Model     score\n",
       "1      DT  0.861953\n",
       "2     RFC  0.860831\n",
       "4     KNN  0.843996\n",
       "0  Logreg  0.829405\n",
       "3     SVC  0.829405"
      ]
     },
     "execution_count": 88,
     "metadata": {},
     "output_type": "execute_result"
    }
   ],
   "source": [
    "#看一看各个模型的情况\n",
    "model = [] #放置模型名称\n",
    "scores = [] #放置模型的准确率\n",
    "fited_clf = {}\n",
    "for name,clf in clfs.items():\n",
    "    clf = clf\n",
    "    clf.fit(X_train, y_train)\n",
    "    score = clf.score(X_train, y_train)\n",
    "    model.append(name)\n",
    "    scores.append(score)\n",
    "    fited_clf[name] = clf\n",
    "    \n",
    "df_scores = pd.DataFrame({\"Model\":model, \"score\":scores})\n",
    "df_scores.sort_values(by=\"score\", ascending=False)"
   ]
  },
  {
   "cell_type": "code",
   "execution_count": 89,
   "metadata": {},
   "outputs": [
    {
     "data": {
      "image/png": "[encoded data removed]",
      "text/plain": [
       "<Figure size 432x288 with 1 Axes>"
      ]
     },
     "metadata": {},
     "output_type": "display_data"
    },
    {
     "data": {
      "image/png": "[encoded data removed]",
      "text/plain": [
       "<Figure size 432x288 with 1 Axes>"
      ]
     },
     "metadata": {},
     "output_type": "display_data"
    },
    {
     "data": {
      "image/png": "[encoded data removed]",
      "text/plain": [
       "<Figure size 432x288 with 1 Axes>"
      ]
     },
     "metadata": {},
     "output_type": "display_data"
    },
    {
     "data": {
      "image/png": "[encoded data removed]",
      "text/plain": [
       "<Figure size 432x288 with 1 Axes>"
      ]
     },
     "metadata": {},
     "output_type": "display_data"
    },
    {
     "data": {
      "image/png": "[encoded data removed]",
      "text/plain": [
       "<Figure size 432x288 with 1 Axes>"
      ]
     },
     "metadata": {},
     "output_type": "display_data"
    }
   ],
   "source": [
    "#画出各个模型的学习曲线\n",
    "for name,clf in fited_clf.items():\n",
    "    test_sizes, train_score, test_score = learning_curve(clf, X_train, y_train, cv=10, train_sizes=np.linspace(0.05, 1.0, 20))\n",
    "    train_score_mean = np.mean(train_score, axis=1)\n",
    "    test_score_mean = np.mean(test_score, axis=1)\n",
    "    fig = plt.figure()\n",
    "    plt.plot(test_sizes, train_score_mean, \"o-\", c=\"r\")\n",
    "    plt.plot(test_sizes, test_score_mean, \"o-\", c=\"g\")\n",
    "    plt.grid()\n",
    "    plt.legend((\"train\", \"test\"), loc=\"best\")\n",
    "    plt.xlabel(name)\n",
    "    plt.ylabel(\"Score\")"
   ]
  },
  {
   "cell_type": "code",
   "execution_count": 90,
   "metadata": {},
   "outputs": [
    {
     "data": {
      "text/plain": [
       "array([0, 0, 0, 0, 1, 0, 1, 0, 0, 0, 0, 0, 1, 0, 1, 1, 0, 0, 0, 1, 0, 1,\n",
       "       1, 0, 1, 0, 1, 0, 0, 0, 0, 0, 1, 0, 0, 0, 0, 0, 0, 0, 0, 0, 0, 1,\n",
       "       1, 0, 0, 0, 1, 1, 0, 0, 1, 1, 0, 1, 0, 0, 0, 1, 0, 0, 0, 1, 1, 1,\n",
       "       1, 0, 0, 1, 1, 0, 0, 0, 1, 0, 0, 1, 0, 1, 1, 0, 0, 0, 0, 0, 1, 0,\n",
       "       1, 1, 1, 0, 1, 0, 0, 0, 1, 0, 0, 0, 1, 0, 0, 0, 0, 0, 0, 0, 0, 0,\n",
       "       0, 0, 0, 0, 1, 0, 0, 1, 0, 1, 1, 0, 1, 0, 0, 0, 0, 1, 0, 0, 0, 0,\n",
       "       0, 0, 0, 0, 0, 0, 0, 1, 0, 1, 0, 0, 0, 0, 0, 0, 0, 0, 1, 0, 0, 1,\n",
       "       1, 0, 1, 0, 0, 0, 0, 1, 1, 0, 0, 0, 0, 0, 1, 0, 0, 0, 0, 0, 0, 1,\n",
       "       1, 0, 1, 1, 0, 0, 1, 0, 1, 0, 1, 0, 0, 0, 0, 0, 1, 0, 1, 0, 1, 1,\n",
       "       0, 1, 1, 0, 0, 1, 0, 0, 0, 0, 0, 0, 0, 0, 0, 1, 1, 0, 1, 0, 1, 0,\n",
       "       1, 0, 1, 0, 1, 0, 0, 1, 0, 0, 0, 1, 0, 0, 0, 0, 0, 0, 1, 1, 1, 1,\n",
       "       0, 0, 1, 0, 1, 0, 1, 0, 1, 0, 0, 0, 0, 0, 0, 0, 1, 0, 0, 0, 1, 1,\n",
       "       0, 0, 0, 0, 0, 0, 0, 0, 1, 1, 0, 1, 0, 0, 0, 0, 0, 1, 1, 0, 1, 0,\n",
       "       0, 0, 0, 0, 0, 0, 0, 0, 0, 0, 1, 0, 0, 0, 0, 0, 0, 0, 1, 1, 0, 1,\n",
       "       0, 1, 0, 0, 0, 1, 1, 1, 0, 0, 0, 0, 0, 0, 0, 0, 1, 0, 1, 0, 0, 0,\n",
       "       1, 0, 0, 0, 0, 0, 0, 0, 0, 1, 0, 0, 1, 1, 1, 1, 0, 0, 0, 1, 1, 0,\n",
       "       0, 0, 1, 0, 1, 0, 0, 1, 0, 1, 1, 0, 1, 0, 0, 0, 1, 0, 0, 1, 0, 0,\n",
       "       1, 1, 0, 0, 0, 1, 0, 0, 1, 1, 0, 1, 0, 0, 0, 1, 0, 1, 1, 0, 0, 1,\n",
       "       0, 1, 0, 0, 1, 0, 1, 0, 0, 0, 0, 0, 1, 0, 1, 1, 1, 0, 1, 0, 0, 1],\n",
       "      dtype=int64)"
      ]
     },
     "execution_count": 90,
     "metadata": {},
     "output_type": "execute_result"
    }
   ],
   "source": [
    "#最后采用决策树进行预测\n",
    "prediction = fited_clf[\"DT\"].predict(X_test)\n",
    "prediction"
   ]
  },
  {
   "cell_type": "code",
   "execution_count": 91,
   "metadata": {},
   "outputs": [
    {
     "data": {
      "text/html": [
       "<div>\n",
       "<style scoped>\n",
       "    .dataframe tbody tr th:only-of-type {\n",
       "        vertical-align: middle;\n",
       "    }\n",
       "\n",
       "    .dataframe tbody tr th {\n",
       "        vertical-align: top;\n",
       "    }\n",
       "\n",
       "    .dataframe thead th {\n",
       "        text-align: right;\n",
       "    }\n",
       "</style>\n",
       "<table border=\"1\" class=\"dataframe\">\n",
       "  <thead>\n",
       "    <tr style=\"text-align: right;\">\n",
       "      <th></th>\n",
       "      <th>PassengerId</th>\n",
       "      <th>Survived</th>\n",
       "    </tr>\n",
       "  </thead>\n",
       "  <tbody>\n",
       "    <tr>\n",
       "      <th>0</th>\n",
       "      <td>892</td>\n",
       "      <td>0</td>\n",
       "    </tr>\n",
       "    <tr>\n",
       "      <th>1</th>\n",
       "      <td>893</td>\n",
       "      <td>0</td>\n",
       "    </tr>\n",
       "    <tr>\n",
       "      <th>2</th>\n",
       "      <td>894</td>\n",
       "      <td>0</td>\n",
       "    </tr>\n",
       "    <tr>\n",
       "      <th>3</th>\n",
       "      <td>895</td>\n",
       "      <td>0</td>\n",
       "    </tr>\n",
       "    <tr>\n",
       "      <th>4</th>\n",
       "      <td>896</td>\n",
       "      <td>1</td>\n",
       "    </tr>\n",
       "    <tr>\n",
       "      <th>5</th>\n",
       "      <td>897</td>\n",
       "      <td>0</td>\n",
       "    </tr>\n",
       "    <tr>\n",
       "      <th>6</th>\n",
       "      <td>898</td>\n",
       "      <td>1</td>\n",
       "    </tr>\n",
       "    <tr>\n",
       "      <th>7</th>\n",
       "      <td>899</td>\n",
       "      <td>0</td>\n",
       "    </tr>\n",
       "    <tr>\n",
       "      <th>8</th>\n",
       "      <td>900</td>\n",
       "      <td>0</td>\n",
       "    </tr>\n",
       "    <tr>\n",
       "      <th>9</th>\n",
       "      <td>901</td>\n",
       "      <td>0</td>\n",
       "    </tr>\n",
       "    <tr>\n",
       "      <th>10</th>\n",
       "      <td>902</td>\n",
       "      <td>0</td>\n",
       "    </tr>\n",
       "    <tr>\n",
       "      <th>11</th>\n",
       "      <td>903</td>\n",
       "      <td>0</td>\n",
       "    </tr>\n",
       "    <tr>\n",
       "      <th>12</th>\n",
       "      <td>904</td>\n",
       "      <td>1</td>\n",
       "    </tr>\n",
       "    <tr>\n",
       "      <th>13</th>\n",
       "      <td>905</td>\n",
       "      <td>0</td>\n",
       "    </tr>\n",
       "    <tr>\n",
       "      <th>14</th>\n",
       "      <td>906</td>\n",
       "      <td>1</td>\n",
       "    </tr>\n",
       "    <tr>\n",
       "      <th>15</th>\n",
       "      <td>907</td>\n",
       "      <td>1</td>\n",
       "    </tr>\n",
       "    <tr>\n",
       "      <th>16</th>\n",
       "      <td>908</td>\n",
       "      <td>0</td>\n",
       "    </tr>\n",
       "    <tr>\n",
       "      <th>17</th>\n",
       "      <td>909</td>\n",
       "      <td>0</td>\n",
       "    </tr>\n",
       "    <tr>\n",
       "      <th>18</th>\n",
       "      <td>910</td>\n",
       "      <td>0</td>\n",
       "    </tr>\n",
       "    <tr>\n",
       "      <th>19</th>\n",
       "      <td>911</td>\n",
       "      <td>1</td>\n",
       "    </tr>\n",
       "    <tr>\n",
       "      <th>20</th>\n",
       "      <td>912</td>\n",
       "      <td>0</td>\n",
       "    </tr>\n",
       "    <tr>\n",
       "      <th>21</th>\n",
       "      <td>913</td>\n",
       "      <td>1</td>\n",
       "    </tr>\n",
       "    <tr>\n",
       "      <th>22</th>\n",
       "      <td>914</td>\n",
       "      <td>1</td>\n",
       "    </tr>\n",
       "    <tr>\n",
       "      <th>23</th>\n",
       "      <td>915</td>\n",
       "      <td>0</td>\n",
       "    </tr>\n",
       "    <tr>\n",
       "      <th>24</th>\n",
       "      <td>916</td>\n",
       "      <td>1</td>\n",
       "    </tr>\n",
       "    <tr>\n",
       "      <th>25</th>\n",
       "      <td>917</td>\n",
       "      <td>0</td>\n",
       "    </tr>\n",
       "    <tr>\n",
       "      <th>26</th>\n",
       "      <td>918</td>\n",
       "      <td>1</td>\n",
       "    </tr>\n",
       "    <tr>\n",
       "      <th>27</th>\n",
       "      <td>919</td>\n",
       "      <td>0</td>\n",
       "    </tr>\n",
       "    <tr>\n",
       "      <th>28</th>\n",
       "      <td>920</td>\n",
       "      <td>0</td>\n",
       "    </tr>\n",
       "    <tr>\n",
       "      <th>29</th>\n",
       "      <td>921</td>\n",
       "      <td>0</td>\n",
       "    </tr>\n",
       "    <tr>\n",
       "      <th>...</th>\n",
       "      <td>...</td>\n",
       "      <td>...</td>\n",
       "    </tr>\n",
       "    <tr>\n",
       "      <th>388</th>\n",
       "      <td>1280</td>\n",
       "      <td>0</td>\n",
       "    </tr>\n",
       "    <tr>\n",
       "      <th>389</th>\n",
       "      <td>1281</td>\n",
       "      <td>1</td>\n",
       "    </tr>\n",
       "    <tr>\n",
       "      <th>390</th>\n",
       "      <td>1282</td>\n",
       "      <td>0</td>\n",
       "    </tr>\n",
       "    <tr>\n",
       "      <th>391</th>\n",
       "      <td>1283</td>\n",
       "      <td>1</td>\n",
       "    </tr>\n",
       "    <tr>\n",
       "      <th>392</th>\n",
       "      <td>1284</td>\n",
       "      <td>1</td>\n",
       "    </tr>\n",
       "    <tr>\n",
       "      <th>393</th>\n",
       "      <td>1285</td>\n",
       "      <td>0</td>\n",
       "    </tr>\n",
       "    <tr>\n",
       "      <th>394</th>\n",
       "      <td>1286</td>\n",
       "      <td>0</td>\n",
       "    </tr>\n",
       "    <tr>\n",
       "      <th>395</th>\n",
       "      <td>1287</td>\n",
       "      <td>1</td>\n",
       "    </tr>\n",
       "    <tr>\n",
       "      <th>396</th>\n",
       "      <td>1288</td>\n",
       "      <td>0</td>\n",
       "    </tr>\n",
       "    <tr>\n",
       "      <th>397</th>\n",
       "      <td>1289</td>\n",
       "      <td>1</td>\n",
       "    </tr>\n",
       "    <tr>\n",
       "      <th>398</th>\n",
       "      <td>1290</td>\n",
       "      <td>0</td>\n",
       "    </tr>\n",
       "    <tr>\n",
       "      <th>399</th>\n",
       "      <td>1291</td>\n",
       "      <td>0</td>\n",
       "    </tr>\n",
       "    <tr>\n",
       "      <th>400</th>\n",
       "      <td>1292</td>\n",
       "      <td>1</td>\n",
       "    </tr>\n",
       "    <tr>\n",
       "      <th>401</th>\n",
       "      <td>1293</td>\n",
       "      <td>0</td>\n",
       "    </tr>\n",
       "    <tr>\n",
       "      <th>402</th>\n",
       "      <td>1294</td>\n",
       "      <td>1</td>\n",
       "    </tr>\n",
       "    <tr>\n",
       "      <th>403</th>\n",
       "      <td>1295</td>\n",
       "      <td>0</td>\n",
       "    </tr>\n",
       "    <tr>\n",
       "      <th>404</th>\n",
       "      <td>1296</td>\n",
       "      <td>0</td>\n",
       "    </tr>\n",
       "    <tr>\n",
       "      <th>405</th>\n",
       "      <td>1297</td>\n",
       "      <td>0</td>\n",
       "    </tr>\n",
       "    <tr>\n",
       "      <th>406</th>\n",
       "      <td>1298</td>\n",
       "      <td>0</td>\n",
       "    </tr>\n",
       "    <tr>\n",
       "      <th>407</th>\n",
       "      <td>1299</td>\n",
       "      <td>0</td>\n",
       "    </tr>\n",
       "    <tr>\n",
       "      <th>408</th>\n",
       "      <td>1300</td>\n",
       "      <td>1</td>\n",
       "    </tr>\n",
       "    <tr>\n",
       "      <th>409</th>\n",
       "      <td>1301</td>\n",
       "      <td>0</td>\n",
       "    </tr>\n",
       "    <tr>\n",
       "      <th>410</th>\n",
       "      <td>1302</td>\n",
       "      <td>1</td>\n",
       "    </tr>\n",
       "    <tr>\n",
       "      <th>411</th>\n",
       "      <td>1303</td>\n",
       "      <td>1</td>\n",
       "    </tr>\n",
       "    <tr>\n",
       "      <th>412</th>\n",
       "      <td>1304</td>\n",
       "      <td>1</td>\n",
       "    </tr>\n",
       "    <tr>\n",
       "      <th>413</th>\n",
       "      <td>1305</td>\n",
       "      <td>0</td>\n",
       "    </tr>\n",
       "    <tr>\n",
       "      <th>414</th>\n",
       "      <td>1306</td>\n",
       "      <td>1</td>\n",
       "    </tr>\n",
       "    <tr>\n",
       "      <th>415</th>\n",
       "      <td>1307</td>\n",
       "      <td>0</td>\n",
       "    </tr>\n",
       "    <tr>\n",
       "      <th>416</th>\n",
       "      <td>1308</td>\n",
       "      <td>0</td>\n",
       "    </tr>\n",
       "    <tr>\n",
       "      <th>417</th>\n",
       "      <td>1309</td>\n",
       "      <td>1</td>\n",
       "    </tr>\n",
       "  </tbody>\n",
       "</table>\n",
       "<p>418 rows × 2 columns</p>\n",
       "</div>"
      ],
      "text/plain": [
       "     PassengerId  Survived\n",
       "0            892         0\n",
       "1            893         0\n",
       "2            894         0\n",
       "3            895         0\n",
       "4            896         1\n",
       "5            897         0\n",
       "6            898         1\n",
       "7            899         0\n",
       "8            900         0\n",
       "9            901         0\n",
       "10           902         0\n",
       "11           903         0\n",
       "12           904         1\n",
       "13           905         0\n",
       "14           906         1\n",
       "15           907         1\n",
       "16           908         0\n",
       "17           909         0\n",
       "18           910         0\n",
       "19           911         1\n",
       "20           912         0\n",
       "21           913         1\n",
       "22           914         1\n",
       "23           915         0\n",
       "24           916         1\n",
       "25           917         0\n",
       "26           918         1\n",
       "27           919         0\n",
       "28           920         0\n",
       "29           921         0\n",
       "..           ...       ...\n",
       "388         1280         0\n",
       "389         1281         1\n",
       "390         1282         0\n",
       "391         1283         1\n",
       "392         1284         1\n",
       "393         1285         0\n",
       "394         1286         0\n",
       "395         1287         1\n",
       "396         1288         0\n",
       "397         1289         1\n",
       "398         1290         0\n",
       "399         1291         0\n",
       "400         1292         1\n",
       "401         1293         0\n",
       "402         1294         1\n",
       "403         1295         0\n",
       "404         1296         0\n",
       "405         1297         0\n",
       "406         1298         0\n",
       "407         1299         0\n",
       "408         1300         1\n",
       "409         1301         0\n",
       "410         1302         1\n",
       "411         1303         1\n",
       "412         1304         1\n",
       "413         1305         0\n",
       "414         1306         1\n",
       "415         1307         0\n",
       "416         1308         0\n",
       "417         1309         1\n",
       "\n",
       "[418 rows x 2 columns]"
      ]
     },
     "execution_count": 91,
     "metadata": {},
     "output_type": "execute_result"
    }
   ],
   "source": [
    "submission = pd.DataFrame({\"PassengerId\":test_df[\"PassengerId\"], \"Survived\":prediction})\n",
    "submission"
   ]
  },
  {
   "cell_type": "code",
   "execution_count": 92,
   "metadata": {},
   "outputs": [],
   "source": [
    "submission.to_csv(\"my Titanic-1.csv\", index=False)"
   ]
  }
 ],
 "metadata": {
  "kernelspec": {
   "display_name": "Python 3",
   "language": "python",
   "name": "python3"
  },
  "language_info": {
   "codemirror_mode": {
    "name": "ipython",
    "version": 3
   },
   "file_extension": ".py",
   "mimetype": "text/x-python",
   "name": "python",
   "nbconvert_exporter": "python",
   "pygments_lexer": "ipython3",
   "version": "3.6.5"
  }
 },
 "nbformat": 4,
 "nbformat_minor": 2
}
