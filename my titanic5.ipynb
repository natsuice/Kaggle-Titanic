{
 "cells": [
  {
   "cell_type": "code",
   "execution_count": 1,
   "metadata": {},
   "outputs": [],
   "source": [
    "import pandas as pd\n",
    "import numpy as np\n",
    "pd.set_option(\"display.max_columns\", 100)\n",
    "\n",
    "import matplotlib as mpl\n",
    "import matplotlib.pyplot as plt\n",
    "import seaborn as sns\n",
    "mpl.style.use(\"ggplot\")\n",
    "%matplotlib inline\n",
    "\n",
    "from sklearn.preprocessing import LabelEncoder\n",
    "from sklearn.model_selection import train_test_split, ShuffleSplit, cross_validate, GridSearchCV\n",
    "from sklearn.feature_selection import RFECV\n",
    "from sklearn.metrics import confusion_matrix, classification_report, roc_curve, auc, precision_score, recall_score, f1_score\n",
    "\n",
    "from sklearn.linear_model import LogisticRegression\n",
    "from sklearn.tree import DecisionTreeClassifier\n",
    "from sklearn.ensemble import AdaBoostClassifier, BaggingClassifier, RandomForestClassifier, VotingClassifier\n",
    "from sklearn.svm import SVC\n",
    "from sklearn.neighbors import KNeighborsClassifier\n",
    "from sklearn.naive_bayes import GaussianNB\n",
    "\n",
    "from itertools import product\n",
    "\n",
    "import warnings \n",
    "warnings.filterwarnings(\"ignore\")"
   ]
  },
  {
   "cell_type": "markdown",
   "metadata": {},
   "source": [
    "### ●问题描述\n",
    "<p> 1912年4月15日，泰坦尼克号在她的处女航中撞上冰山后沉没，结束了她光辉而短暂的旅途。2224名乘客以及船员中有1502人丧生，存活率仅32%。\n",
    "<p> 现在我们得到了一份记录了乘客的各种信息以及该乘客是否生还的训练数据和一份含有乘客信息但生还未知的测试数据，我们要根据训练数据建立一个模型来预测测试数据中乘客的生还情况。\n",
    "   "
   ]
  },
  {
   "cell_type": "markdown",
   "metadata": {},
   "source": [
    "### ●获取数据"
   ]
  },
  {
   "cell_type": "code",
   "execution_count": 2,
   "metadata": {},
   "outputs": [
    {
     "data": {
      "text/html": [
       "<div>\n",
       "<style scoped>\n",
       "    .dataframe tbody tr th:only-of-type {\n",
       "        vertical-align: middle;\n",
       "    }\n",
       "\n",
       "    .dataframe tbody tr th {\n",
       "        vertical-align: top;\n",
       "    }\n",
       "\n",
       "    .dataframe thead th {\n",
       "        text-align: right;\n",
       "    }\n",
       "</style>\n",
       "<table border=\"1\" class=\"dataframe\">\n",
       "  <thead>\n",
       "    <tr style=\"text-align: right;\">\n",
       "      <th></th>\n",
       "      <th>PassengerId</th>\n",
       "      <th>Survived</th>\n",
       "      <th>Pclass</th>\n",
       "      <th>Name</th>\n",
       "      <th>Sex</th>\n",
       "      <th>Age</th>\n",
       "      <th>SibSp</th>\n",
       "      <th>Parch</th>\n",
       "      <th>Ticket</th>\n",
       "      <th>Fare</th>\n",
       "      <th>Cabin</th>\n",
       "      <th>Embarked</th>\n",
       "    </tr>\n",
       "  </thead>\n",
       "  <tbody>\n",
       "    <tr>\n",
       "      <th>0</th>\n",
       "      <td>1</td>\n",
       "      <td>0</td>\n",
       "      <td>3</td>\n",
       "      <td>Braund, Mr. Owen Harris</td>\n",
       "      <td>male</td>\n",
       "      <td>22.0</td>\n",
       "      <td>1</td>\n",
       "      <td>0</td>\n",
       "      <td>A/5 21171</td>\n",
       "      <td>7.2500</td>\n",
       "      <td>NaN</td>\n",
       "      <td>S</td>\n",
       "    </tr>\n",
       "    <tr>\n",
       "      <th>1</th>\n",
       "      <td>2</td>\n",
       "      <td>1</td>\n",
       "      <td>1</td>\n",
       "      <td>Cumings, Mrs. John Bradley (Florence Briggs Th...</td>\n",
       "      <td>female</td>\n",
       "      <td>38.0</td>\n",
       "      <td>1</td>\n",
       "      <td>0</td>\n",
       "      <td>PC 17599</td>\n",
       "      <td>71.2833</td>\n",
       "      <td>C85</td>\n",
       "      <td>C</td>\n",
       "    </tr>\n",
       "    <tr>\n",
       "      <th>2</th>\n",
       "      <td>3</td>\n",
       "      <td>1</td>\n",
       "      <td>3</td>\n",
       "      <td>Heikkinen, Miss. Laina</td>\n",
       "      <td>female</td>\n",
       "      <td>26.0</td>\n",
       "      <td>0</td>\n",
       "      <td>0</td>\n",
       "      <td>STON/O2. 3101282</td>\n",
       "      <td>7.9250</td>\n",
       "      <td>NaN</td>\n",
       "      <td>S</td>\n",
       "    </tr>\n",
       "    <tr>\n",
       "      <th>3</th>\n",
       "      <td>4</td>\n",
       "      <td>1</td>\n",
       "      <td>1</td>\n",
       "      <td>Futrelle, Mrs. Jacques Heath (Lily May Peel)</td>\n",
       "      <td>female</td>\n",
       "      <td>35.0</td>\n",
       "      <td>1</td>\n",
       "      <td>0</td>\n",
       "      <td>113803</td>\n",
       "      <td>53.1000</td>\n",
       "      <td>C123</td>\n",
       "      <td>S</td>\n",
       "    </tr>\n",
       "    <tr>\n",
       "      <th>4</th>\n",
       "      <td>5</td>\n",
       "      <td>0</td>\n",
       "      <td>3</td>\n",
       "      <td>Allen, Mr. William Henry</td>\n",
       "      <td>male</td>\n",
       "      <td>35.0</td>\n",
       "      <td>0</td>\n",
       "      <td>0</td>\n",
       "      <td>373450</td>\n",
       "      <td>8.0500</td>\n",
       "      <td>NaN</td>\n",
       "      <td>S</td>\n",
       "    </tr>\n",
       "  </tbody>\n",
       "</table>\n",
       "</div>"
      ],
      "text/plain": [
       "   PassengerId  Survived  Pclass  \\\n",
       "0            1         0       3   \n",
       "1            2         1       1   \n",
       "2            3         1       3   \n",
       "3            4         1       1   \n",
       "4            5         0       3   \n",
       "\n",
       "                                                Name     Sex   Age  SibSp  \\\n",
       "0                            Braund, Mr. Owen Harris    male  22.0      1   \n",
       "1  Cumings, Mrs. John Bradley (Florence Briggs Th...  female  38.0      1   \n",
       "2                             Heikkinen, Miss. Laina  female  26.0      0   \n",
       "3       Futrelle, Mrs. Jacques Heath (Lily May Peel)  female  35.0      1   \n",
       "4                           Allen, Mr. William Henry    male  35.0      0   \n",
       "\n",
       "   Parch            Ticket     Fare Cabin Embarked  \n",
       "0      0         A/5 21171   7.2500   NaN        S  \n",
       "1      0          PC 17599  71.2833   C85        C  \n",
       "2      0  STON/O2. 3101282   7.9250   NaN        S  \n",
       "3      0            113803  53.1000  C123        S  \n",
       "4      0            373450   8.0500   NaN        S  "
      ]
     },
     "execution_count": 2,
     "metadata": {},
     "output_type": "execute_result"
    }
   ],
   "source": [
    "#提取数据\n",
    "train_row = pd.read_csv(\"train.csv\")\n",
    "train = train_row.copy(deep=True)\n",
    "test = pd.read_csv(\"test.csv\")\n",
    "total = [train, test]\n",
    "train.head(5)"
   ]
  },
  {
   "cell_type": "code",
   "execution_count": 3,
   "metadata": {},
   "outputs": [
    {
     "name": "stdout",
     "output_type": "stream",
     "text": [
      "<class 'pandas.core.frame.DataFrame'>\n",
      "RangeIndex: 891 entries, 0 to 890\n",
      "Data columns (total 12 columns):\n",
      "PassengerId    891 non-null int64\n",
      "Survived       891 non-null int64\n",
      "Pclass         891 non-null int64\n",
      "Name           891 non-null object\n",
      "Sex            891 non-null object\n",
      "Age            714 non-null float64\n",
      "SibSp          891 non-null int64\n",
      "Parch          891 non-null int64\n",
      "Ticket         891 non-null object\n",
      "Fare           891 non-null float64\n",
      "Cabin          204 non-null object\n",
      "Embarked       889 non-null object\n",
      "dtypes: float64(2), int64(5), object(5)\n",
      "memory usage: 83.6+ KB\n",
      "None\n",
      "**********\n",
      "<class 'pandas.core.frame.DataFrame'>\n",
      "RangeIndex: 418 entries, 0 to 417\n",
      "Data columns (total 11 columns):\n",
      "PassengerId    418 non-null int64\n",
      "Pclass         418 non-null int64\n",
      "Name           418 non-null object\n",
      "Sex            418 non-null object\n",
      "Age            332 non-null float64\n",
      "SibSp          418 non-null int64\n",
      "Parch          418 non-null int64\n",
      "Ticket         418 non-null object\n",
      "Fare           417 non-null float64\n",
      "Cabin          91 non-null object\n",
      "Embarked       418 non-null object\n",
      "dtypes: float64(2), int64(4), object(5)\n",
      "memory usage: 36.0+ KB\n",
      "None\n"
     ]
    }
   ],
   "source": [
    "#查看数据的基本信息\n",
    "print(train.info()) \n",
    "print(\"*\"*10)\n",
    "print(test.info())"
   ]
  },
  {
   "cell_type": "code",
   "execution_count": 4,
   "metadata": {},
   "outputs": [
    {
     "name": "stdout",
     "output_type": "stream",
     "text": [
      "       PassengerId    Survived      Pclass         Age       SibSp  \\\n",
      "count   891.000000  891.000000  891.000000  714.000000  891.000000   \n",
      "mean    446.000000    0.383838    2.308642   29.699118    0.523008   \n",
      "std     257.353842    0.486592    0.836071   14.526497    1.102743   \n",
      "min       1.000000    0.000000    1.000000    0.420000    0.000000   \n",
      "25%     223.500000    0.000000    2.000000   20.125000    0.000000   \n",
      "50%     446.000000    0.000000    3.000000   28.000000    0.000000   \n",
      "75%     668.500000    1.000000    3.000000   38.000000    1.000000   \n",
      "max     891.000000    1.000000    3.000000   80.000000    8.000000   \n",
      "\n",
      "            Parch        Fare  \n",
      "count  891.000000  891.000000  \n",
      "mean     0.381594   32.204208  \n",
      "std      0.806057   49.693429  \n",
      "min      0.000000    0.000000  \n",
      "25%      0.000000    7.910400  \n",
      "50%      0.000000   14.454200  \n",
      "75%      0.000000   31.000000  \n",
      "max      6.000000  512.329200  \n",
      "**********\n",
      "                          Name   Sex    Ticket Cabin Embarked\n",
      "count                      891   891       891   204      889\n",
      "unique                     891     2       681   147        3\n",
      "top     Perkin, Mr. John Henry  male  CA. 2343    G6        S\n",
      "freq                         1   577         7     4      644\n",
      " * * * * * * * * * *\n",
      "       PassengerId      Pclass         Age       SibSp       Parch        Fare\n",
      "count   418.000000  418.000000  332.000000  418.000000  418.000000  417.000000\n",
      "mean   1100.500000    2.265550   30.272590    0.447368    0.392344   35.627188\n",
      "std     120.810458    0.841838   14.181209    0.896760    0.981429   55.907576\n",
      "min     892.000000    1.000000    0.170000    0.000000    0.000000    0.000000\n",
      "25%     996.250000    1.000000   21.000000    0.000000    0.000000    7.895800\n",
      "50%    1100.500000    3.000000   27.000000    0.000000    0.000000   14.454200\n",
      "75%    1204.750000    3.000000   39.000000    1.000000    0.000000   31.500000\n",
      "max    1309.000000    3.000000   76.000000    8.000000    9.000000  512.329200\n",
      "**********\n",
      "                                                    Name   Sex    Ticket  \\\n",
      "count                                                418   418       418   \n",
      "unique                                               418     2       363   \n",
      "top     Moubarek, Mrs. George (Omine Amenia\" Alexander)\"  male  PC 17608   \n",
      "freq                                                   1   266         5   \n",
      "\n",
      "                  Cabin Embarked  \n",
      "count                91      418  \n",
      "unique               76        3  \n",
      "top     B57 B59 B63 B66        S  \n",
      "freq                  3      270  \n"
     ]
    }
   ],
   "source": [
    "#看一下数据的统计情况\n",
    "print(train.describe())\n",
    "print(\"*\"*10)\n",
    "print(train.describe(include=[\"O\"]))\n",
    "print(\" *\"*10)\n",
    "print(test.describe())\n",
    "print(\"*\"*10)\n",
    "print(test.describe(include=[\"O\"]))"
   ]
  },
  {
   "cell_type": "code",
   "execution_count": 5,
   "metadata": {},
   "outputs": [
    {
     "name": "stdout",
     "output_type": "stream",
     "text": [
      "PassengerId    0.000000\n",
      "Survived       0.000000\n",
      "Pclass         0.000000\n",
      "Name           0.000000\n",
      "Sex            0.000000\n",
      "Age            0.198653\n",
      "SibSp          0.000000\n",
      "Parch          0.000000\n",
      "Ticket         0.000000\n",
      "Fare           0.000000\n",
      "Cabin          0.771044\n",
      "Embarked       0.002245\n",
      "dtype: float64\n",
      "**********\n",
      "PassengerId    0.000000\n",
      "Pclass         0.000000\n",
      "Name           0.000000\n",
      "Sex            0.000000\n",
      "Age            0.205742\n",
      "SibSp          0.000000\n",
      "Parch          0.000000\n",
      "Ticket         0.000000\n",
      "Fare           0.002392\n",
      "Cabin          0.782297\n",
      "Embarked       0.000000\n",
      "dtype: float64\n"
     ]
    }
   ],
   "source": [
    "#观察缺失值的情况\n",
    "print(train.isnull().sum()/len(train))\n",
    "print(\"*\"*10)\n",
    "print(test.isnull().sum()/len(test))"
   ]
  },
  {
   "cell_type": "markdown",
   "metadata": {},
   "source": [
    "#### 初步观察后得到一些信息\n",
    "<p> 训练集中一共有891位乘客信息（577名男性乘客)，测试集中有418位乘客信息(266名男性乘客）；\n",
    "<p> 训练集（train_df）中一共12列数据，其中Survived列为我们需要预测的标签（label），其他11列为特征（feature）\n",
    "<p> 数量型数据  \n",
    "   离散型：SibSp Parch  \n",
    "   连续型：Age Fare\n",
    "<p> 分类型数据  \n",
    "   Name Sex Ticket Cabin Embarked Survived    \n",
    "   定序型：Pclass\n",
    "<p> PassengerId是一个序列，对数据没有任何作用    \n",
    "<p> Survived中，1代表生还，0代表遇难；从训练集的mean中可以看到乘客生还率为38%\n",
    "<p> Pclass分为1，2，3；中位数是3，可知1代表头等舱，2次之，3为普通席\n",
    "<p> Age 乘客平均年龄29岁，中位数28岁，最小4个月大，最大80岁\n",
    "<p> SibSp和Parch跟家庭成员有关，从数据可以看出75%的乘客都是单独出行\n",
    "<p> Fare中可以看出，有少部分土豪乘客，票价高达512磅。\n",
    "<p> Name全是独立数据\n",
    "<p> Ticket有超过75%的独立值\n",
    "<p> Embarked有S、C、Q三种，S最多，占72%   \n",
    "<p> 训练集中Age、Cabin和Embarked有缺失值；测试集中Age、Cabin和Fare有缺失值    "
   ]
  },
  {
   "cell_type": "markdown",
   "metadata": {},
   "source": [
    "### ●分析数据"
   ]
  },
  {
   "cell_type": "code",
   "execution_count": 6,
   "metadata": {},
   "outputs": [],
   "source": [
    "#先处理数据中的缺失值\n",
    "\n",
    "for data in total:\n",
    "    data[\"Age\"].fillna(data[\"Age\"].median(), inplace=True) #用Age的中位数填补缺失值\n",
    "    data[\"Embarked\"].fillna(data[\"Embarked\"].mode()[0], inplace=True) #用Embarked的众数填补缺失值\n",
    "    data[\"Fare\"].fillna(data[\"Fare\"].mode()[0], inplace=True) #用Fare的众数填补缺失值\n",
    "    \n",
    "    #对于Cabin特征，将有数据值的样本作为have Cabin， null的样本作为have no Cabin\n",
    "    data.loc[train[\"Cabin\"].notnull(), \"Cabin\"] = 1\n",
    "    data[\"Cabin\"].fillna(0, inplace=True)"
   ]
  },
  {
   "cell_type": "code",
   "execution_count": 7,
   "metadata": {},
   "outputs": [],
   "source": [
    "#删除不需要的特征\n",
    "drop_feature = [\"PassengerId\", \"Ticket\"]\n",
    "\n",
    "train.drop(drop_feature, 1, inplace=True)"
   ]
  },
  {
   "cell_type": "code",
   "execution_count": 8,
   "metadata": {},
   "outputs": [
    {
     "name": "stdout",
     "output_type": "stream",
     "text": [
      "Survived    0.0\n",
      "Pclass      0.0\n",
      "Name        0.0\n",
      "Sex         0.0\n",
      "Age         0.0\n",
      "SibSp       0.0\n",
      "Parch       0.0\n",
      "Fare        0.0\n",
      "Cabin       0.0\n",
      "Embarked    0.0\n",
      "dtype: float64\n",
      "PassengerId    0.0\n",
      "Pclass         0.0\n",
      "Name           0.0\n",
      "Sex            0.0\n",
      "Age            0.0\n",
      "SibSp          0.0\n",
      "Parch          0.0\n",
      "Ticket         0.0\n",
      "Fare           0.0\n",
      "Cabin          0.0\n",
      "Embarked       0.0\n",
      "dtype: float64\n"
     ]
    }
   ],
   "source": [
    "# 检查数据是否还存在缺失值\n",
    "for data in total:\n",
    "    print(data.isnull().sum()/len(data))"
   ]
  },
  {
   "cell_type": "code",
   "execution_count": 27,
   "metadata": {},
   "outputs": [
    {
     "data": {
      "image/png": "[encoded data removed]",
      "text/plain": [
       "<Figure size 1080x648 with 6 Axes>"
      ]
     },
     "metadata": {},
     "output_type": "display_data"
    }
   ],
   "source": [
    "#画图先看一看数据的情况\n",
    "\n",
    "#画图查看Sex，Pclass，Cabin， Embarked, Parch, SibSp各自的生还率\n",
    "fig = plt.figure(figsize=(15, 9))\n",
    "\n",
    "plt.subplot(231)\n",
    "ax1 = sns.barplot(x=\"Sex\", y=\"Survived\", data=train, estimator=np.mean)\n",
    "\n",
    "plt.subplot(232)\n",
    "ax2 = sns.barplot(x=\"Pclass\", y=\"Survived\", data=train, estimator=np.mean)\n",
    "\n",
    "plt.subplot(233)\n",
    "ax3 = sns.barplot(x=\"Cabin\", y=\"Survived\", data=train, estimator=np.mean)\n",
    "\n",
    "plt.subplot(234)\n",
    "ax4 = sns.barplot(x=\"Embarked\", y=\"Survived\", data=train, estimator=np.mean)\n",
    "\n",
    "plt.subplot(235)\n",
    "ax5 = sns.barplot(x=\"Parch\", y=\"Survived\", data=train, estimator=np.mean)\n",
    "\n",
    "plt.subplot(236)\n",
    "ax6 = sns.barplot(x=\"SibSp\", y=\"Survived\", data=train, estimator=np.mean)"
   ]
  },
  {
   "cell_type": "code",
   "execution_count": 57,
   "metadata": {},
   "outputs": [
    {
     "data": {
      "image/png": "[encoded data removed]",
      "text/plain": [
       "<Figure size 430.5x360 with 1 Axes>"
      ]
     },
     "metadata": {},
     "output_type": "display_data"
    },
    {
     "data": {
      "image/png": "[encoded data removed]",
      "text/plain": [
       "<Figure size 430.5x360 with 1 Axes>"
      ]
     },
     "metadata": {},
     "output_type": "display_data"
    },
    {
     "data": {
      "image/png": "[encoded data removed]",
      "text/plain": [
       "<Figure size 430.5x360 with 1 Axes>"
      ]
     },
     "metadata": {},
     "output_type": "display_data"
    }
   ],
   "source": [
    "#联系多个特征查看获救情况\n",
    "\n",
    "#查看在各个Pclass，Embarked，有无Cabin中Sex的获救情况\n",
    "ax1 = sns.catplot(data=train, x=\"Pclass\", y=\"Survived\", hue=\"Sex\", kind=\"bar\")\n",
    "ax2 = sns.catplot(data=train, x=\"Embarked\", y=\"Survived\", hue=\"Sex\", kind=\"bar\")\n",
    "ax3 = sns.catplot(data=train, x=\"Cabin\", y=\"Survived\", hue=\"Sex\", kind=\"bar\")"
   ]
  },
  {
   "cell_type": "code",
   "execution_count": 61,
   "metadata": {},
   "outputs": [
    {
     "data": {
      "image/png": "[encoded data removed]",
      "text/plain": [
       "<Figure size 402.5x360 with 1 Axes>"
      ]
     },
     "metadata": {},
     "output_type": "display_data"
    }
   ],
   "source": [
    "#查看Embarked和Cabin有什么联系\n",
    "ax = sns.catplot(data=train, x=\"Embarked\", hue=\"Cabin\", kind=\"count\")"
   ]
  },
  {
   "cell_type": "markdown",
   "metadata": {},
   "source": [
    "<p> 女性超过7成能获救，Pclass的头等舱有6成能获就，而且头等舱中的女性有超过8成的生还率，看来女性和土豪可以优先登上救生船。\n",
    "<p> 有Cabin的获救率远高于没有Cabin，特别是有Cabin的男士生还率是没有Cabin的两倍，可以推测有Cabin的可能和身份地位有关。\n",
    "<p> Embarked中C港口的获救率超过了50%，尤其是C港口登船的女性有超过80%的生还率；   \n",
    "    S港口登船人数最多但获救率最低，很有可能从C港口登船的富人较多，而S港口大部分是工薪阶层。\n",
    "<p> SibSp和Parch中有很多零相关的数据。"
   ]
  },
  {
   "cell_type": "code",
   "execution_count": null,
   "metadata": {},
   "outputs": [],
   "source": [
    "#接下来查看连续性变量Age和Fare对生还率有什么样的影响\n",
    "\n",
    "sns.FacetGrid(x=\"Age\", )"
   ]
  }
 ],
 "metadata": {
  "kernelspec": {
   "display_name": "Python 3",
   "language": "python",
   "name": "python3"
  },
  "language_info": {
   "codemirror_mode": {
    "name": "ipython",
    "version": 3
   },
   "file_extension": ".py",
   "mimetype": "text/x-python",
   "name": "python",
   "nbconvert_exporter": "python",
   "pygments_lexer": "ipython3",
   "version": "3.6.5"
  }
 },
 "nbformat": 4,
 "nbformat_minor": 2
}
