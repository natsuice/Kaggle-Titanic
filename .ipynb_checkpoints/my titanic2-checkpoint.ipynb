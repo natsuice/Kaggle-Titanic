{
 "cells": [
  {
   "cell_type": "code",
   "execution_count": 1,
   "metadata": {},
   "outputs": [],
   "source": [
    "import pandas as pd\n",
    "import numpy as np\n",
    "\n",
    "import matplotlib as mpl\n",
    "import matplotlib.pyplot as plt\n",
    "mpl.style.use(\"ggplot\")\n",
    "%matplotlib inline\n",
    "\n",
    "from sklearn.preprocessing import LabelEncoder\n",
    "from sklearn.model_selection import train_test_split, ShuffleSplit, cross_validate, GridSearchCV\n",
    "from sklearn.feature_selection import RFECV\n",
    "from sklearn.metrics import confusion_matrix, classification_report, roc_curve, auc, precision_score, recall_score, f1_score\n",
    "\n",
    "from sklearn.linear_model import LogisticRegression\n",
    "from sklearn.tree import DecisionTreeClassifier\n",
    "\n",
    "from itertools import product\n",
    "import warnings \n",
    "warnings.filterwarnings(\"ignore\")"
   ]
  },
  {
   "cell_type": "markdown",
   "metadata": {},
   "source": [
    "### 导入数据并进行初步的数据观察"
   ]
  },
  {
   "cell_type": "code",
   "execution_count": 2,
   "metadata": {},
   "outputs": [],
   "source": [
    "train_row = pd.read_csv(\"train.csv\")\n",
    "train = train_row.copy(deep=True)\n",
    "test = pd.read_csv(\"test.csv\")\n",
    "total = [train, test]"
   ]
  },
  {
   "cell_type": "code",
   "execution_count": 3,
   "metadata": {},
   "outputs": [
    {
     "data": {
      "text/html": [
       "<div>\n",
       "<style scoped>\n",
       "    .dataframe tbody tr th:only-of-type {\n",
       "        vertical-align: middle;\n",
       "    }\n",
       "\n",
       "    .dataframe tbody tr th {\n",
       "        vertical-align: top;\n",
       "    }\n",
       "\n",
       "    .dataframe thead th {\n",
       "        text-align: right;\n",
       "    }\n",
       "</style>\n",
       "<table border=\"1\" class=\"dataframe\">\n",
       "  <thead>\n",
       "    <tr style=\"text-align: right;\">\n",
       "      <th></th>\n",
       "      <th>PassengerId</th>\n",
       "      <th>Survived</th>\n",
       "      <th>Pclass</th>\n",
       "      <th>Name</th>\n",
       "      <th>Sex</th>\n",
       "      <th>Age</th>\n",
       "      <th>SibSp</th>\n",
       "      <th>Parch</th>\n",
       "      <th>Ticket</th>\n",
       "      <th>Fare</th>\n",
       "      <th>Cabin</th>\n",
       "      <th>Embarked</th>\n",
       "    </tr>\n",
       "  </thead>\n",
       "  <tbody>\n",
       "    <tr>\n",
       "      <th>0</th>\n",
       "      <td>1</td>\n",
       "      <td>0</td>\n",
       "      <td>3</td>\n",
       "      <td>Braund, Mr. Owen Harris</td>\n",
       "      <td>male</td>\n",
       "      <td>22.0</td>\n",
       "      <td>1</td>\n",
       "      <td>0</td>\n",
       "      <td>A/5 21171</td>\n",
       "      <td>7.2500</td>\n",
       "      <td>NaN</td>\n",
       "      <td>S</td>\n",
       "    </tr>\n",
       "    <tr>\n",
       "      <th>1</th>\n",
       "      <td>2</td>\n",
       "      <td>1</td>\n",
       "      <td>1</td>\n",
       "      <td>Cumings, Mrs. John Bradley (Florence Briggs Th...</td>\n",
       "      <td>female</td>\n",
       "      <td>38.0</td>\n",
       "      <td>1</td>\n",
       "      <td>0</td>\n",
       "      <td>PC 17599</td>\n",
       "      <td>71.2833</td>\n",
       "      <td>C85</td>\n",
       "      <td>C</td>\n",
       "    </tr>\n",
       "    <tr>\n",
       "      <th>2</th>\n",
       "      <td>3</td>\n",
       "      <td>1</td>\n",
       "      <td>3</td>\n",
       "      <td>Heikkinen, Miss. Laina</td>\n",
       "      <td>female</td>\n",
       "      <td>26.0</td>\n",
       "      <td>0</td>\n",
       "      <td>0</td>\n",
       "      <td>STON/O2. 3101282</td>\n",
       "      <td>7.9250</td>\n",
       "      <td>NaN</td>\n",
       "      <td>S</td>\n",
       "    </tr>\n",
       "    <tr>\n",
       "      <th>3</th>\n",
       "      <td>4</td>\n",
       "      <td>1</td>\n",
       "      <td>1</td>\n",
       "      <td>Futrelle, Mrs. Jacques Heath (Lily May Peel)</td>\n",
       "      <td>female</td>\n",
       "      <td>35.0</td>\n",
       "      <td>1</td>\n",
       "      <td>0</td>\n",
       "      <td>113803</td>\n",
       "      <td>53.1000</td>\n",
       "      <td>C123</td>\n",
       "      <td>S</td>\n",
       "    </tr>\n",
       "    <tr>\n",
       "      <th>4</th>\n",
       "      <td>5</td>\n",
       "      <td>0</td>\n",
       "      <td>3</td>\n",
       "      <td>Allen, Mr. William Henry</td>\n",
       "      <td>male</td>\n",
       "      <td>35.0</td>\n",
       "      <td>0</td>\n",
       "      <td>0</td>\n",
       "      <td>373450</td>\n",
       "      <td>8.0500</td>\n",
       "      <td>NaN</td>\n",
       "      <td>S</td>\n",
       "    </tr>\n",
       "  </tbody>\n",
       "</table>\n",
       "</div>"
      ],
      "text/plain": [
       "   PassengerId  Survived  Pclass  \\\n",
       "0            1         0       3   \n",
       "1            2         1       1   \n",
       "2            3         1       3   \n",
       "3            4         1       1   \n",
       "4            5         0       3   \n",
       "\n",
       "                                                Name     Sex   Age  SibSp  \\\n",
       "0                            Braund, Mr. Owen Harris    male  22.0      1   \n",
       "1  Cumings, Mrs. John Bradley (Florence Briggs Th...  female  38.0      1   \n",
       "2                             Heikkinen, Miss. Laina  female  26.0      0   \n",
       "3       Futrelle, Mrs. Jacques Heath (Lily May Peel)  female  35.0      1   \n",
       "4                           Allen, Mr. William Henry    male  35.0      0   \n",
       "\n",
       "   Parch            Ticket     Fare Cabin Embarked  \n",
       "0      0         A/5 21171   7.2500   NaN        S  \n",
       "1      0          PC 17599  71.2833   C85        C  \n",
       "2      0  STON/O2. 3101282   7.9250   NaN        S  \n",
       "3      0            113803  53.1000  C123        S  \n",
       "4      0            373450   8.0500   NaN        S  "
      ]
     },
     "execution_count": 3,
     "metadata": {},
     "output_type": "execute_result"
    }
   ],
   "source": [
    "train.head(5)"
   ]
  },
  {
   "cell_type": "code",
   "execution_count": 4,
   "metadata": {},
   "outputs": [
    {
     "name": "stdout",
     "output_type": "stream",
     "text": [
      "<class 'pandas.core.frame.DataFrame'>\n",
      "RangeIndex: 891 entries, 0 to 890\n",
      "Data columns (total 12 columns):\n",
      "PassengerId    891 non-null int64\n",
      "Survived       891 non-null int64\n",
      "Pclass         891 non-null int64\n",
      "Name           891 non-null object\n",
      "Sex            891 non-null object\n",
      "Age            714 non-null float64\n",
      "SibSp          891 non-null int64\n",
      "Parch          891 non-null int64\n",
      "Ticket         891 non-null object\n",
      "Fare           891 non-null float64\n",
      "Cabin          204 non-null object\n",
      "Embarked       889 non-null object\n",
      "dtypes: float64(2), int64(5), object(5)\n",
      "memory usage: 83.6+ KB\n",
      "None\n",
      "**********\n",
      "<class 'pandas.core.frame.DataFrame'>\n",
      "RangeIndex: 418 entries, 0 to 417\n",
      "Data columns (total 11 columns):\n",
      "PassengerId    418 non-null int64\n",
      "Pclass         418 non-null int64\n",
      "Name           418 non-null object\n",
      "Sex            418 non-null object\n",
      "Age            332 non-null float64\n",
      "SibSp          418 non-null int64\n",
      "Parch          418 non-null int64\n",
      "Ticket         418 non-null object\n",
      "Fare           417 non-null float64\n",
      "Cabin          91 non-null object\n",
      "Embarked       418 non-null object\n",
      "dtypes: float64(2), int64(4), object(5)\n",
      "memory usage: 36.0+ KB\n",
      "None\n"
     ]
    }
   ],
   "source": [
    "print(train.info()) \n",
    "print(\"*\"*10)\n",
    "print(test.info())"
   ]
  },
  {
   "cell_type": "code",
   "execution_count": 5,
   "metadata": {
    "scrolled": true
   },
   "outputs": [
    {
     "name": "stdout",
     "output_type": "stream",
     "text": [
      "       PassengerId    Survived      Pclass         Age       SibSp  \\\n",
      "count   891.000000  891.000000  891.000000  714.000000  891.000000   \n",
      "mean    446.000000    0.383838    2.308642   29.699118    0.523008   \n",
      "std     257.353842    0.486592    0.836071   14.526497    1.102743   \n",
      "min       1.000000    0.000000    1.000000    0.420000    0.000000   \n",
      "25%     223.500000    0.000000    2.000000   20.125000    0.000000   \n",
      "50%     446.000000    0.000000    3.000000   28.000000    0.000000   \n",
      "75%     668.500000    1.000000    3.000000   38.000000    1.000000   \n",
      "max     891.000000    1.000000    3.000000   80.000000    8.000000   \n",
      "\n",
      "            Parch        Fare  \n",
      "count  891.000000  891.000000  \n",
      "mean     0.381594   32.204208  \n",
      "std      0.806057   49.693429  \n",
      "min      0.000000    0.000000  \n",
      "25%      0.000000    7.910400  \n",
      "50%      0.000000   14.454200  \n",
      "75%      0.000000   31.000000  \n",
      "max      6.000000  512.329200  \n",
      "**********\n",
      "                             Name   Sex    Ticket        Cabin Embarked\n",
      "count                         891   891       891          204      889\n",
      "unique                        891     2       681          147        3\n",
      "top     Petterson, Mr. Johan Emil  male  CA. 2343  C23 C25 C27        S\n",
      "freq                            1   577         7            4      644\n",
      " * * * * * * * * * *\n",
      "       PassengerId      Pclass         Age       SibSp       Parch        Fare\n",
      "count   418.000000  418.000000  332.000000  418.000000  418.000000  417.000000\n",
      "mean   1100.500000    2.265550   30.272590    0.447368    0.392344   35.627188\n",
      "std     120.810458    0.841838   14.181209    0.896760    0.981429   55.907576\n",
      "min     892.000000    1.000000    0.170000    0.000000    0.000000    0.000000\n",
      "25%     996.250000    1.000000   21.000000    0.000000    0.000000    7.895800\n",
      "50%    1100.500000    3.000000   27.000000    0.000000    0.000000   14.454200\n",
      "75%    1204.750000    3.000000   39.000000    1.000000    0.000000   31.500000\n",
      "max    1309.000000    3.000000   76.000000    8.000000    9.000000  512.329200\n",
      "**********\n",
      "                                   Name   Sex    Ticket            Cabin  \\\n",
      "count                               418   418       418               91   \n",
      "unique                              418     2       363               76   \n",
      "top     Sandstrom, Miss. Beatrice Irene  male  PC 17608  B57 B59 B63 B66   \n",
      "freq                                  1   266         5                3   \n",
      "\n",
      "       Embarked  \n",
      "count       418  \n",
      "unique        3  \n",
      "top           S  \n",
      "freq        270  \n"
     ]
    }
   ],
   "source": [
    "print(train.describe())\n",
    "print(\"*\"*10)\n",
    "print(train.describe(include=[\"O\"]))\n",
    "print(\" *\"*10)\n",
    "print(test.describe())\n",
    "print(\"*\"*10)\n",
    "print(test.describe(include=[\"O\"]))"
   ]
  },
  {
   "cell_type": "code",
   "execution_count": 6,
   "metadata": {},
   "outputs": [
    {
     "name": "stdout",
     "output_type": "stream",
     "text": [
      "PassengerId    0.000000\n",
      "Survived       0.000000\n",
      "Pclass         0.000000\n",
      "Name           0.000000\n",
      "Sex            0.000000\n",
      "Age            0.198653\n",
      "SibSp          0.000000\n",
      "Parch          0.000000\n",
      "Ticket         0.000000\n",
      "Fare           0.000000\n",
      "Cabin          0.771044\n",
      "Embarked       0.002245\n",
      "dtype: float64\n",
      "**********\n",
      "PassengerId    0.000000\n",
      "Pclass         0.000000\n",
      "Name           0.000000\n",
      "Sex            0.000000\n",
      "Age            0.205742\n",
      "SibSp          0.000000\n",
      "Parch          0.000000\n",
      "Ticket         0.000000\n",
      "Fare           0.002392\n",
      "Cabin          0.782297\n",
      "Embarked       0.000000\n",
      "dtype: float64\n"
     ]
    }
   ],
   "source": [
    "print(train.isnull().sum()/len(train))\n",
    "print(\"*\"*10)\n",
    "print(test.isnull().sum()/len(test))"
   ]
  },
  {
   "cell_type": "markdown",
   "metadata": {},
   "source": [
    "### 数据特征工程"
   ]
  },
  {
   "cell_type": "code",
   "execution_count": 7,
   "metadata": {},
   "outputs": [],
   "source": [
    "#填补缺失值\n",
    "for data in total:\n",
    "    data[\"Age\"].fillna(data[\"Age\"].median(), inplace=True)\n",
    "    data[\"Embarked\"].fillna(data[\"Embarked\"].mode()[0], inplace=True)\n",
    "    data[\"Fare\"].fillna(data[\"Fare\"].mode()[0], inplace=True)"
   ]
  },
  {
   "cell_type": "code",
   "execution_count": 9,
   "metadata": {},
   "outputs": [],
   "source": [
    "#删除不需要的特征\n",
    "drop_feature = [\"PassengerId\", \"Cabin\", \"Ticket\"]\n",
    "\n",
    "train.drop(drop_feature, 1, inplace=True)"
   ]
  },
  {
   "cell_type": "code",
   "execution_count": 10,
   "metadata": {},
   "outputs": [
    {
     "name": "stdout",
     "output_type": "stream",
     "text": [
      "Survived    0.0\n",
      "Pclass      0.0\n",
      "Name        0.0\n",
      "Sex         0.0\n",
      "Age         0.0\n",
      "SibSp       0.0\n",
      "Parch       0.0\n",
      "Fare        0.0\n",
      "Embarked    0.0\n",
      "dtype: float64\n",
      "PassengerId    0.000000\n",
      "Pclass         0.000000\n",
      "Name           0.000000\n",
      "Sex            0.000000\n",
      "Age            0.000000\n",
      "SibSp          0.000000\n",
      "Parch          0.000000\n",
      "Ticket         0.000000\n",
      "Fare           0.000000\n",
      "Cabin          0.782297\n",
      "Embarked       0.000000\n",
      "dtype: float64\n"
     ]
    }
   ],
   "source": [
    "# 检查数据是否还存在缺失值\n",
    "for data in total:\n",
    "    print(data.isnull().sum()/len(data))"
   ]
  },
  {
   "cell_type": "code",
   "execution_count": 11,
   "metadata": {},
   "outputs": [],
   "source": [
    "#特征转换\n",
    "for data in total:\n",
    "    data[\"Title\"] = data.Name.str.extract(\" ([A-Za-z]+)\\.\", expand=False) #从Name中提取Title\n",
    "    data[\"AgeBand\"] = pd.cut(data[\"Age\"], bins=10) #将Age划分等级\n",
    "    data[\"FamilySize\"] = data[\"SibSp\"] + data[\"Parch\"] + 1 #添加FamilySize特征\n",
    "    data[\"IsAlone\"] = 1 #根据FamilySize特征添加IsAlone特征\n",
    "    data[\"IsAlone\"].loc[data[\"FamilySize\"] > 1] = 0 \n",
    "    data[\"FareBand\"] = pd.qcut(data[\"Fare\"], 5) #将Fare划分等级"
   ]
  },
  {
   "cell_type": "code",
   "execution_count": 12,
   "metadata": {},
   "outputs": [],
   "source": [
    "#将Title细分\n",
    "for data in total:\n",
    "    data[\"Title\"].replace([\"Capt\", \"Col\", \"Don\", \"Dr\", \"Jonkheer\", \"Major\", \"Rev\", \"Sir\"], \"Rare\", inplace=True)\n",
    "    data[\"Title\"].replace([\"Countess\", \"Mme\",\"Ms\", \"Dona\"], \"Mrs\", inplace=True)\n",
    "    data[\"Title\"].replace([\"Lady\", \"Mlle\"], \"Miss\", inplace=True)"
   ]
  },
  {
   "cell_type": "code",
   "execution_count": 13,
   "metadata": {},
   "outputs": [],
   "source": [
    "#LabelEncode\n",
    "le = LabelEncoder()\n",
    "for data in total:\n",
    "    data[\"Sex_Code\"] = le.fit_transform(data[\"Sex\"])\n",
    "    data[\"Embarked_Code\"] = le.fit_transform(data[\"Embarked\"])\n",
    "    data[\"Title_Code\"] = le.fit_transform(data[\"Title\"])\n",
    "    data[\"AgeBand_Code\"] = le.fit_transform(data[\"AgeBand\"])\n",
    "    data[\"FareBand_Code\"] = le.fit_transform(data[\"FareBand\"])"
   ]
  },
  {
   "cell_type": "code",
   "execution_count": 14,
   "metadata": {},
   "outputs": [],
   "source": [
    "#创造一些别的特征\n",
    "for data in total:\n",
    "    data[\"Pclass*Sex\"] = data[\"Pclass\"] * data[\"Sex_Code\"]\n",
    "    data[\"Embarked*Sex\"] = data[\"Embarked_Code\"] * data[\"Sex_Code\"]\n",
    "    data[\"Title*Sex\"] = data[\"Title_Code\"] * data[\"Sex_Code\"]\n",
    "    data[\"Pclass*Age\"] = "
   ]
  },
  {
   "cell_type": "code",
   "execution_count": 15,
   "metadata": {},
   "outputs": [],
   "source": [
    "#One hot encode\n",
    "dummies = [\"Sex\", \"Embarked\", \"Title\", \"IsAlone\"]\n",
    "\n",
    "train_dummies = pd.get_dummies(train[dummies])\n",
    "test_dummies = pd.get_dummies(test[dummies])\n",
    "\n",
    "train = pd.concat([train, train_dummies], 1)\n",
    "test = pd.concat([test, test_dummies], 1)"
   ]
  },
  {
   "cell_type": "code",
   "execution_count": 16,
   "metadata": {},
   "outputs": [
    {
     "data": {
      "text/plain": [
       "(Index(['Survived', 'Pclass', 'Name', 'Sex', 'Age', 'SibSp', 'Parch', 'Fare',\n",
       "        'Embarked', 'Title', 'AgeBand', 'FamilySize', 'IsAlone', 'FareBand',\n",
       "        'Sex_Code', 'Embarked_Code', 'Title_Code', 'AgeBand_Code',\n",
       "        'FareBand_Code', 'Pclass*Sex', 'Embarked*Sex', 'Title*Sex', 'IsAlone',\n",
       "        'Sex_female', 'Sex_male', 'Embarked_C', 'Embarked_Q', 'Embarked_S',\n",
       "        'Title_Master', 'Title_Miss', 'Title_Mr', 'Title_Mrs', 'Title_Rare'],\n",
       "       dtype='object'),\n",
       " Index(['PassengerId', 'Pclass', 'Name', 'Sex', 'Age', 'SibSp', 'Parch',\n",
       "        'Ticket', 'Fare', 'Cabin', 'Embarked', 'Title', 'AgeBand', 'FamilySize',\n",
       "        'IsAlone', 'FareBand', 'Sex_Code', 'Embarked_Code', 'Title_Code',\n",
       "        'AgeBand_Code', 'FareBand_Code', 'Pclass*Sex', 'Embarked*Sex',\n",
       "        'Title*Sex', 'IsAlone', 'Sex_female', 'Sex_male', 'Embarked_C',\n",
       "        'Embarked_Q', 'Embarked_S', 'Title_Master', 'Title_Miss', 'Title_Mr',\n",
       "        'Title_Mrs', 'Title_Rare'],\n",
       "       dtype='object'))"
      ]
     },
     "execution_count": 16,
     "metadata": {},
     "output_type": "execute_result"
    }
   ],
   "source": [
    "train.columns, test.columns"
   ]
  },
  {
   "cell_type": "code",
   "execution_count": 43,
   "metadata": {},
   "outputs": [
    {
     "name": "stdout",
     "output_type": "stream",
     "text": [
      "<class 'pandas.core.frame.DataFrame'>\n",
      "RangeIndex: 891 entries, 0 to 890\n",
      "Data columns (total 33 columns):\n",
      "Survived         891 non-null int64\n",
      "Pclass           891 non-null int64\n",
      "Name             891 non-null object\n",
      "Sex              891 non-null object\n",
      "Age              891 non-null float64\n",
      "SibSp            891 non-null int64\n",
      "Parch            891 non-null int64\n",
      "Fare             891 non-null float64\n",
      "Embarked         891 non-null object\n",
      "Title            891 non-null object\n",
      "AgeBand          891 non-null category\n",
      "FamilySize       891 non-null int64\n",
      "IsAlone          891 non-null int64\n",
      "FareBand         891 non-null category\n",
      "Sex_Code         891 non-null int64\n",
      "Embarked_Code    891 non-null int64\n",
      "Title_Code       891 non-null int64\n",
      "AgeBand_Code     891 non-null int64\n",
      "FareBand_Code    891 non-null int64\n",
      "Pclass*Sex       891 non-null int64\n",
      "Embarked*Sex     891 non-null int64\n",
      "Title*Sex        891 non-null int64\n",
      "IsAlone          891 non-null int64\n",
      "Sex_female       891 non-null uint8\n",
      "Sex_male         891 non-null uint8\n",
      "Embarked_C       891 non-null uint8\n",
      "Embarked_Q       891 non-null uint8\n",
      "Embarked_S       891 non-null uint8\n",
      "Title_Master     891 non-null uint8\n",
      "Title_Miss       891 non-null uint8\n",
      "Title_Mr         891 non-null uint8\n",
      "Title_Mrs        891 non-null uint8\n",
      "Title_Rare       891 non-null uint8\n",
      "dtypes: category(2), float64(2), int64(15), object(4), uint8(10)\n",
      "memory usage: 156.9+ KB\n"
     ]
    }
   ],
   "source": [
    "train.info()"
   ]
  },
  {
   "cell_type": "code",
   "execution_count": 49,
   "metadata": {},
   "outputs": [],
   "source": [
    "#选择不同的特征组合\n",
    "target = [\"Survived\"]\n",
    "data_num = ['Pclass', 'SibSp', 'Parch', 'FamilySize', 'IsAlone', \n",
    "            'Sex_Code', 'Embarked_Code', 'Title_Code', 'AgeBand_Code',\n",
    "            'FareBand_Code', 'Pclass*Sex', 'Embarked*Sex', 'Title*Sex', 'IsAlone',\n",
    "            'Sex_female', 'Sex_male', 'Embarked_C', 'Embarked_Q', 'Embarked_S',\n",
    "            'Title_Master', 'Title_Miss', 'Title_Mr', 'Title_Mrs', 'Title_Rare']\n",
    "data_x = ['Pclass', 'SibSp', 'Parch', 'FamilySize', \n",
    "          'IsAlone', 'Sex_Code', 'Embarked_Code', 'Title_Code', 'AgeBand_Code',\n",
    "          'FareBand_Code', 'Pclass*Sex', 'Embarked*Sex', 'Title*Sex']\n",
    "\n",
    "data_x_bin = ['Pclass', 'FamilySize', 'Sex_Code', 'Embarked_Code', 'Title_Code', \n",
    "              'AgeBand_Code', 'FareBand_Code', 'Pclass*Sex', 'Embarked*Sex', 'Title*Sex']\n",
    "\n",
    "data_x_dummy = ['Pclass', 'SibSp', 'Parch', 'FamilySize', 'IsAlone', 'AgeBand_Code', \n",
    "                'FareBand_Code', 'Pclass*Sex', 'Embarked*Sex', 'Title*Sex', 'Sex_female', \n",
    "                'Sex_male', 'Embarked_C', 'Embarked_Q', 'Embarked_S', 'Title_Master', \n",
    "                'Title_Miss', 'Title_Mr', 'Title_Mrs', 'Title_Rare']       "
   ]
  },
  {
   "cell_type": "code",
   "execution_count": 50,
   "metadata": {},
   "outputs": [],
   "source": [
    "#划分数据\n",
    "train_X_num, test_X_num, train_X_y, test_X_y = train_test_split(\n",
    "    train[data_num], train[target], random_state=0)\n",
    "train_X, test_X, train_y, test_y = train_test_split(\n",
    "    train[data_x], train[target], random_state=0)\n",
    "train_X_bin, test_X_bin, train_y_bin, test_y_bin = train_test_split(\n",
    "    train[data_x_bin], train[target], random_state=0)\n",
    "train_X_dummy, test_X_dummy, train_y_dummy, test_y_dummy = train_test_split(\n",
    "    train[data_x_dummy], train[target], random_state=0)"
   ]
  },
  {
   "cell_type": "markdown",
   "metadata": {},
   "source": [
    "### 建模并进行评估"
   ]
  },
  {
   "cell_type": "code",
   "execution_count": 51,
   "metadata": {},
   "outputs": [],
   "source": [
    "#选择DecisionTree\n",
    "cv_split = ShuffleSplit(n_splits=10, test_size=0.3, train_size=0.6, random_state=0)\n",
    "\n",
    "clf = DecisionTreeClassifier()\n",
    "\n",
    "#交叉验证评估模型\n",
    "cv_result_num = cross_validate(clf, train[data_num], train[target], cv=cv_split)\n",
    "cv_result_x = cross_validate(clf, train[data_x], train[target], cv=cv_split)\n",
    "cv_result_bin = cross_validate(clf, train[data_x_bin], train[target], cv=cv_split)\n",
    "cv_result_dummy = cross_validate(clf, train[data_x_dummy], train[target], cv=cv_split)"
   ]
  },
  {
   "cell_type": "code",
   "execution_count": 52,
   "metadata": {},
   "outputs": [
    {
     "name": "stdout",
     "output_type": "stream",
     "text": [
      "train score of train_num: 0.9185393258426966\n",
      "test score of train_num: 0.7977611940298507\n",
      "**********\n",
      "train score of train_x: 0.9185393258426966\n",
      "test score of train_x: 0.8007462686567164\n",
      "**********\n",
      "train score of train_x_bin: 0.9164794007490636\n",
      "test score of train_x_bin: 0.8041044776119403\n",
      "**********\n",
      "train score of train_x_dummy: 0.9185393258426966\n",
      "test score of train_x_dummy: 0.7999999999999999\n"
     ]
    }
   ],
   "source": [
    "#查看交叉验证的评估结果\n",
    "print(\"train score of train_num:\", cv_result_num[\"train_score\"].mean())\n",
    "print(\"test score of train_num:\", cv_result_num[\"test_score\"].mean())\n",
    "print(\"*\"*10)\n",
    "print(\"train score of train_x:\", cv_result_x[\"train_score\"].mean())\n",
    "print(\"test score of train_x:\", cv_result_x[\"test_score\"].mean())\n",
    "print(\"*\"*10)\n",
    "print(\"train score of train_x_bin:\", cv_result_bin[\"train_score\"].mean())\n",
    "print(\"test score of train_x_bin:\", cv_result_bin[\"test_score\"].mean())\n",
    "print(\"*\"*10)\n",
    "print(\"train score of train_x_dummy:\", cv_result_dummy[\"train_score\"].mean())\n",
    "print(\"test score of train_x_dummy:\", cv_result_dummy[\"test_score\"].mean())"
   ]
  },
  {
   "cell_type": "code",
   "execution_count": 53,
   "metadata": {},
   "outputs": [],
   "source": [
    "#对模型进行性能度量\n",
    "clf.fit(train[data_num], train[target])\n",
    "y_pred = clf.predict(train[data_num])"
   ]
  },
  {
   "cell_type": "code",
   "execution_count": 54,
   "metadata": {},
   "outputs": [],
   "source": [
    "#Confusion Matrix函数\n",
    "def plot_confusion_matrix(cm, classes, \n",
    "                          normalize = False, \n",
    "                          title=\"Confusion Matrix\",\n",
    "                          cmap=plt.cm.Blues):\n",
    "    \n",
    "    if normalize:\n",
    "        cm = cm.astype(\"float\")/cm.sum(axis=1)[:, np.newaxis]\n",
    "        print(\"Normalized confusion matrix\")\n",
    "    else:\n",
    "        print(\"Confusion matrix without normalization\")\n",
    "    \n",
    "    print(cm)\n",
    "    \n",
    "    plt.imshow(cm, interpolation=\"nearest\",cmap=cmap)\n",
    "    plt.title(title)\n",
    "    plt.colorbar()\n",
    "    tick_marks = np.arange(len(classes))\n",
    "    plt.xticks(tick_marks, classes, rotation=45)\n",
    "    plt.yticks(tick_marks, classes)\n",
    "    \n",
    "    fmt = \".2f\" if normalize else \"d\"\n",
    "    thresh = cm.max()/2.0\n",
    "    for i,j in product(range(cm.shape[0]), range(cm.shape[1])):\n",
    "        plt.text(j, i, format(cm[i, j], fmt),\n",
    "                 horizontalalignment=\"center\",\n",
    "                 color=\"white\" if cm[i,j] > thresh else \"black\")\n",
    "        \n",
    "    plt.ylabel(\"True label\")\n",
    "    plt.xlabel(\"Predicted label\")\n",
    "    plt.tight_layout()      "
   ]
  },
  {
   "cell_type": "code",
   "execution_count": 55,
   "metadata": {},
   "outputs": [
    {
     "name": "stdout",
     "output_type": "stream",
     "text": [
      "             precision    recall  f1-score   support\n",
      "\n",
      "          0       0.89      0.97      0.93       549\n",
      "          1       0.95      0.80      0.87       342\n",
      "\n",
      "avg / total       0.91      0.91      0.90       891\n",
      "\n",
      "Confusion matrix without normalization\n",
      "[[534  15]\n",
      " [ 69 273]]\n",
      "Normalized confusion matrix\n",
      "[[0.9726776  0.0273224 ]\n",
      " [0.20175439 0.79824561]]\n"
     ]
    },
    {
     "data": {
      "image/png": "[encoded data removed]",
      "text/plain": [
       "<Figure size 432x288 with 2 Axes>"
      ]
     },
     "metadata": {},
     "output_type": "display_data"
    },
    {
     "data": {
      "image/png": "[encoded data removed]",
      "text/plain": [
       "<Figure size 432x288 with 2 Axes>"
      ]
     },
     "metadata": {},
     "output_type": "display_data"
    }
   ],
   "source": [
    "#查看模型confusion matrix\n",
    "cm = confusion_matrix(train[target], y_pred)\n",
    "classes = [\"Dead\", \"Survived\"]\n",
    "\n",
    "print(classification_report(train[target], y_pred))\n",
    "\n",
    "plt.figure()\n",
    "plot_confusion_matrix(cm=cm, classes=classes)\n",
    "\n",
    "plt.figure()\n",
    "plot_confusion_matrix(cm=cm, classes=classes, title=\"Confusion Matrix with noramlization\", normalize=True)"
   ]
  },
  {
   "cell_type": "code",
   "execution_count": 56,
   "metadata": {},
   "outputs": [
    {
     "name": "stdout",
     "output_type": "stream",
     "text": [
      "AUC: 0.8854616048317515\n"
     ]
    },
    {
     "data": {
      "image/png": "[encoded data removed]",
      "text/plain": [
       "<Figure size 432x288 with 1 Axes>"
      ]
     },
     "metadata": {},
     "output_type": "display_data"
    }
   ],
   "source": [
    "#ROC曲线与AUC值\n",
    "y_true = train[target]\n",
    "y_score = y_pred   \n",
    "\n",
    "fpr, tpr, thresholds = roc_curve(y_true, y_score, \n",
    "                                 pos_label=None, \n",
    "                                 sample_weight=None, \n",
    "                                 drop_intermediate=True)\n",
    "    \n",
    "plt.plot([0,1], [0,1], \"k--\")\n",
    "plt.plot(fpr, tpr, label=\"DecisionTree\")\n",
    "plt.xlabel(\"False positive rate\")\n",
    "plt.ylabel(\"True positive rate\")\n",
    "    \n",
    "print(\"AUC:\", auc(fpr, tpr))"
   ]
  },
  {
   "cell_type": "code",
   "execution_count": 60,
   "metadata": {},
   "outputs": [
    {
     "name": "stdout",
     "output_type": "stream",
     "text": [
      "After tune parameters\n",
      "{'criterion': 'entropy', 'max_depth': 4, 'min_impurity_decrease': 0.0}\n"
     ]
    }
   ],
   "source": [
    "param_grid = {\"criterion\": [\"gini\", \"entropy\"],\n",
    "              \"max_depth\": [2, 4, 6, 8, 10, 12, 14, 16, None],\n",
    "              \"min_impurity_decrease\": np.linspace(0, 0.2, 50)}\n",
    "tune_model = GridSearchCV(clf, param_grid=param_grid, scoring=\"roc_auc\", cv=cv_split)\n",
    "tune_model.fit(train[data_num], train[target])\n",
    "\n",
    "print(\"After tune parameters\")\n",
    "print(tune_model.best_params_)"
   ]
  },
  {
   "cell_type": "code",
   "execution_count": 61,
   "metadata": {},
   "outputs": [
    {
     "data": {
      "text/plain": [
       "0.7639376695092455"
      ]
     },
     "execution_count": 61,
     "metadata": {},
     "output_type": "execute_result"
    }
   ],
   "source": [
    "tune_model.cv_results_[\"mean_test_score\"].mean()"
   ]
  },
  {
   "cell_type": "code",
   "execution_count": 62,
   "metadata": {},
   "outputs": [
    {
     "data": {
      "text/plain": [
       "RFECV(cv=ShuffleSplit(n_splits=10, random_state=0, test_size=0.3, train_size=0.6),\n",
       "   estimator=DecisionTreeClassifier(class_weight=None, criterion='gini', max_depth=None,\n",
       "            max_features=None, max_leaf_nodes=None,\n",
       "            min_impurity_decrease=0.0, min_impurity_split=None,\n",
       "            min_samples_leaf=1, min_samples_split=2,\n",
       "            min_weight_fraction_leaf=0.0, presort=False, random_state=None,\n",
       "            splitter='best'),\n",
       "   n_jobs=1, scoring='accuracy', step=1, verbose=0)"
      ]
     },
     "execution_count": 62,
     "metadata": {},
     "output_type": "execute_result"
    }
   ],
   "source": [
    "dt_fs = RFECV(clf, step=1, scoring=\"accuracy\", cv=cv_split)\n",
    "dt_fs.fit(train[data_num], train[target])"
   ]
  },
  {
   "cell_type": "code",
   "execution_count": 64,
   "metadata": {},
   "outputs": [
    {
     "data": {
      "text/plain": [
       "array(['Pclass', 'FamilySize', 'Title*Sex'], dtype=object)"
      ]
     },
     "execution_count": 64,
     "metadata": {},
     "output_type": "execute_result"
    }
   ],
   "source": [
    "X_fs = train[data_num].columns.values[dt_fs.get_support()]\n",
    "X_fs"
   ]
  },
  {
   "cell_type": "code",
   "execution_count": 65,
   "metadata": {},
   "outputs": [
    {
     "name": "stdout",
     "output_type": "stream",
     "text": [
      "After tune parameters\n",
      "{'criterion': 'entropy', 'max_depth': 6, 'min_impurity_decrease': 0.004081632653061225}\n"
     ]
    }
   ],
   "source": [
    "param_grid = {\"criterion\": [\"gini\", \"entropy\"],\n",
    "              \"max_depth\": [2, 4, 6, 8, 10, 12, 14, 16, None],\n",
    "              \"min_impurity_decrease\": np.linspace(0, 0.2, 50)}\n",
    "tune_model = GridSearchCV(clf, param_grid=param_grid, scoring=\"roc_auc\", cv=cv_split)\n",
    "tune_model.fit(train[X_fs], train[target])\n",
    "\n",
    "print(\"After tune parameters\")\n",
    "print(tune_model.best_params_)"
   ]
  },
  {
   "cell_type": "code",
   "execution_count": 68,
   "metadata": {},
   "outputs": [
    {
     "name": "stdout",
     "output_type": "stream",
     "text": [
      "             precision    recall  f1-score   support\n",
      "\n",
      "          0       0.85      0.90      0.87       549\n",
      "          1       0.82      0.74      0.77       342\n",
      "\n",
      "avg / total       0.83      0.84      0.83       891\n",
      "\n",
      "Confusion matrix without normalization\n",
      "[[492  57]\n",
      " [ 90 252]]\n"
     ]
    },
    {
     "data": {
      "image/png": "[encoded data removed]",
      "text/plain": [
       "<Figure size 432x288 with 2 Axes>"
      ]
     },
     "metadata": {},
     "output_type": "display_data"
    }
   ],
   "source": [
    "clf_atp = DecisionTreeClassifier(criterion=\"entropy\", \n",
    "                                 max_depth=6, \n",
    "                                 min_impurity_decrease=0.004081632653061225)\n",
    "clf_atp.fit(train[X_fs], train[target])\n",
    "y_atp_pred = clf_atp.predict(train[X_fs])\n",
    "\n",
    "cm_atp = confusion_matrix(train[target], y_atp_pred)\n",
    "classes = [\"Dead\", \"Survived\"]\n",
    "\n",
    "print(classification_report(train[target], y_atp_pred))\n",
    "\n",
    "plt.figure()\n",
    "plot_confusion_matrix(cm=cm_atp, classes=classes)"
   ]
  },
  {
   "cell_type": "code",
   "execution_count": 71,
   "metadata": {},
   "outputs": [
    {
     "name": "stdout",
     "output_type": "stream",
     "text": [
      "Before tune parameters\n",
      "{'class_weight': None, 'criterion': 'gini', 'max_depth': None, 'max_features': None, 'max_leaf_nodes': None, 'min_impurity_decrease': 0.0, 'min_impurity_split': None, 'min_samples_leaf': 1, 'min_samples_split': 2, 'min_weight_fraction_leaf': 0.0, 'presort': False, 'random_state': None, 'splitter': 'best'}\n",
      "acurrancy score: 0.9057239057239057\n",
      "precision score: 0.9479166666666666\n",
      "recall score: 0.7982456140350878\n",
      "f1 score: 0.8666666666666667\n",
      "**********\n",
      "After tune parameters\n",
      "{'class_weight': None, 'criterion': 'entropy', 'max_depth': 6, 'max_features': None, 'max_leaf_nodes': None, 'min_impurity_decrease': 0.004081632653061225, 'min_impurity_split': None, 'min_samples_leaf': 1, 'min_samples_split': 2, 'min_weight_fraction_leaf': 0.0, 'presort': False, 'random_state': None, 'splitter': 'best'}\n",
      "acurrancy score: 0.835016835016835\n",
      "precision score: 0.8155339805825242\n",
      "recall score: 0.7368421052631579\n",
      "f1 score: 0.7741935483870966\n"
     ]
    }
   ],
   "source": [
    "print(\"Before tune parameters\")\n",
    "print(clf.get_params())\n",
    "print(\"acurrancy score:\", clf.score(train[data_num], train[target]))\n",
    "print(\"precision score:\", precision_score(train[target], y_pred))\n",
    "print(\"recall score:\", recall_score(train[target], y_pred))\n",
    "print(\"f1 score:\", f1_score(train[target], y_pred))\n",
    "print(\"*\"*10)\n",
    "print(\"After tune parameters\")\n",
    "print(clf_atp.get_params())\n",
    "print(\"acurrancy score:\", clf_atp.score(train[X_fs], train[target]))\n",
    "print(\"precision score:\", precision_score(train[target], y_atp_pred))\n",
    "print(\"recall score:\", recall_score(train[target], y_atp_pred))\n",
    "print(\"f1 score:\", f1_score(train[target], y_atp_pred))"
   ]
  },
  {
   "cell_type": "code",
   "execution_count": 72,
   "metadata": {},
   "outputs": [
    {
     "name": "stdout",
     "output_type": "stream",
     "text": [
      "train score of train_num: 0.9185393258426966\n",
      "test score of train_num: 0.7977611940298507\n",
      "**********\n",
      "atp test score: 0.8335820895522389\n",
      "atp train score: 0.8352059925093634\n"
     ]
    }
   ],
   "source": [
    "print(\"train score of train_num:\", cv_result_num[\"train_score\"].mean())\n",
    "print(\"test score of train_num:\", cv_result_num[\"test_score\"].mean())\n",
    "print(\"*\"*10)\n",
    "atp_cv_result_dummy = cross_validate(clf_atp, train[X_fs], train[target], cv=cv_split)\n",
    "print(\"atp test score:\", atp_cv_result_dummy[\"test_score\"].mean())\n",
    "print(\"atp train score:\", atp_cv_result_dummy[\"train_score\"].mean())"
   ]
  },
  {
   "cell_type": "code",
   "execution_count": 75,
   "metadata": {},
   "outputs": [],
   "source": [
    "test[\"Survived\"] = clf_atp.predict(test[X_fs])\n",
    "submit = test[[\"PassengerId\", \"Survived\"]]\n",
    "submit.to_csv(\"1021submit.csv\", index=False)  #提交后得分：0.78947"
   ]
  }
 ],
 "metadata": {
  "kernelspec": {
   "display_name": "Python 3",
   "language": "python",
   "name": "python3"
  },
  "language_info": {
   "codemirror_mode": {
    "name": "ipython",
    "version": 3
   },
   "file_extension": ".py",
   "mimetype": "text/x-python",
   "name": "python",
   "nbconvert_exporter": "python",
   "pygments_lexer": "ipython3",
   "version": "3.6.5"
  }
 },
 "nbformat": 4,
 "nbformat_minor": 2
}
